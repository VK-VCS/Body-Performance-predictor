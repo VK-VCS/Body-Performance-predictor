{
 "cells": [
  {
   "cell_type": "code",
   "execution_count": 1,
   "metadata": {
    "colab": {
     "base_uri": "https://localhost:8080/"
    },
    "id": "TKXYarj-Fld7",
    "outputId": "d6d1b20c-d94b-4a1d-e8e9-40db5f2bcde1"
   },
   "outputs": [],
   "source": [
    "#from google.colab import drive\n",
    "#drive.mount('/content/drive')\n",
    "import pandas as pd"
   ]
  },
  {
   "cell_type": "code",
   "execution_count": 2,
   "metadata": {
    "colab": {
     "base_uri": "https://localhost:8080/"
    },
    "id": "eQ47YviBFld-",
    "outputId": "41a82701-55dd-40b3-9a8c-d7c7b113c3d5"
   },
   "outputs": [
    {
     "data": {
      "text/plain": [
       "(13393, 12)"
      ]
     },
     "execution_count": 2,
     "metadata": {},
     "output_type": "execute_result"
    }
   ],
   "source": [
    "#dataset=pd.read_csv(\"/content/drive/MyDrive/Colab Notebooks/bodyPerformance.csv\")\n",
    "dataset=pd.read_csv(\"F:\\\\ML\\\\ML Ineuron\\\\Project\\\\Body Performance\\\\bodyPerformance.csv\")\n",
    "dataset.shape"
   ]
  },
  {
   "cell_type": "code",
   "execution_count": 3,
   "metadata": {
    "colab": {
     "base_uri": "https://localhost:8080/",
     "height": 206
    },
    "id": "bVtINeNqFleA",
    "outputId": "f2eb66b9-441a-4c08-e7f4-7b699608940c"
   },
   "outputs": [
    {
     "data": {
      "text/html": [
       "<div>\n",
       "<style scoped>\n",
       "    .dataframe tbody tr th:only-of-type {\n",
       "        vertical-align: middle;\n",
       "    }\n",
       "\n",
       "    .dataframe tbody tr th {\n",
       "        vertical-align: top;\n",
       "    }\n",
       "\n",
       "    .dataframe thead th {\n",
       "        text-align: right;\n",
       "    }\n",
       "</style>\n",
       "<table border=\"1\" class=\"dataframe\">\n",
       "  <thead>\n",
       "    <tr style=\"text-align: right;\">\n",
       "      <th></th>\n",
       "      <th>age</th>\n",
       "      <th>gender</th>\n",
       "      <th>height_cm</th>\n",
       "      <th>weight_kg</th>\n",
       "      <th>body fat_%</th>\n",
       "      <th>diastolic</th>\n",
       "      <th>systolic</th>\n",
       "      <th>gripForce</th>\n",
       "      <th>sit and bend forward_cm</th>\n",
       "      <th>sit-ups counts</th>\n",
       "      <th>broad jump_cm</th>\n",
       "      <th>class</th>\n",
       "    </tr>\n",
       "  </thead>\n",
       "  <tbody>\n",
       "    <tr>\n",
       "      <th>0</th>\n",
       "      <td>27.0</td>\n",
       "      <td>M</td>\n",
       "      <td>172.3</td>\n",
       "      <td>75.24</td>\n",
       "      <td>21.3</td>\n",
       "      <td>80.0</td>\n",
       "      <td>130.0</td>\n",
       "      <td>54.9</td>\n",
       "      <td>18.4</td>\n",
       "      <td>60.0</td>\n",
       "      <td>217.0</td>\n",
       "      <td>C</td>\n",
       "    </tr>\n",
       "    <tr>\n",
       "      <th>1</th>\n",
       "      <td>25.0</td>\n",
       "      <td>M</td>\n",
       "      <td>165.0</td>\n",
       "      <td>55.80</td>\n",
       "      <td>15.7</td>\n",
       "      <td>77.0</td>\n",
       "      <td>126.0</td>\n",
       "      <td>36.4</td>\n",
       "      <td>16.3</td>\n",
       "      <td>53.0</td>\n",
       "      <td>229.0</td>\n",
       "      <td>A</td>\n",
       "    </tr>\n",
       "    <tr>\n",
       "      <th>2</th>\n",
       "      <td>31.0</td>\n",
       "      <td>M</td>\n",
       "      <td>179.6</td>\n",
       "      <td>78.00</td>\n",
       "      <td>20.1</td>\n",
       "      <td>92.0</td>\n",
       "      <td>152.0</td>\n",
       "      <td>44.8</td>\n",
       "      <td>12.0</td>\n",
       "      <td>49.0</td>\n",
       "      <td>181.0</td>\n",
       "      <td>C</td>\n",
       "    </tr>\n",
       "    <tr>\n",
       "      <th>3</th>\n",
       "      <td>32.0</td>\n",
       "      <td>M</td>\n",
       "      <td>174.5</td>\n",
       "      <td>71.10</td>\n",
       "      <td>18.4</td>\n",
       "      <td>76.0</td>\n",
       "      <td>147.0</td>\n",
       "      <td>41.4</td>\n",
       "      <td>15.2</td>\n",
       "      <td>53.0</td>\n",
       "      <td>219.0</td>\n",
       "      <td>B</td>\n",
       "    </tr>\n",
       "    <tr>\n",
       "      <th>4</th>\n",
       "      <td>28.0</td>\n",
       "      <td>M</td>\n",
       "      <td>173.8</td>\n",
       "      <td>67.70</td>\n",
       "      <td>17.1</td>\n",
       "      <td>70.0</td>\n",
       "      <td>127.0</td>\n",
       "      <td>43.5</td>\n",
       "      <td>27.1</td>\n",
       "      <td>45.0</td>\n",
       "      <td>217.0</td>\n",
       "      <td>B</td>\n",
       "    </tr>\n",
       "  </tbody>\n",
       "</table>\n",
       "</div>"
      ],
      "text/plain": [
       "    age gender  height_cm  weight_kg  body fat_%  diastolic  systolic  \\\n",
       "0  27.0      M      172.3      75.24        21.3       80.0     130.0   \n",
       "1  25.0      M      165.0      55.80        15.7       77.0     126.0   \n",
       "2  31.0      M      179.6      78.00        20.1       92.0     152.0   \n",
       "3  32.0      M      174.5      71.10        18.4       76.0     147.0   \n",
       "4  28.0      M      173.8      67.70        17.1       70.0     127.0   \n",
       "\n",
       "   gripForce  sit and bend forward_cm  sit-ups counts  broad jump_cm class  \n",
       "0       54.9                     18.4            60.0          217.0     C  \n",
       "1       36.4                     16.3            53.0          229.0     A  \n",
       "2       44.8                     12.0            49.0          181.0     C  \n",
       "3       41.4                     15.2            53.0          219.0     B  \n",
       "4       43.5                     27.1            45.0          217.0     B  "
      ]
     },
     "execution_count": 3,
     "metadata": {},
     "output_type": "execute_result"
    }
   ],
   "source": [
    "dataset.head(5)"
   ]
  },
  {
   "cell_type": "code",
   "execution_count": 4,
   "metadata": {
    "colab": {
     "base_uri": "https://localhost:8080/"
    },
    "id": "OuCLprZaFleB",
    "outputId": "ec8eaa40-9a50-4444-b5aa-12508f9bdebd"
   },
   "outputs": [
    {
     "data": {
      "text/plain": [
       "age                        0\n",
       "gender                     0\n",
       "height_cm                  0\n",
       "weight_kg                  0\n",
       "body fat_%                 0\n",
       "diastolic                  0\n",
       "systolic                   0\n",
       "gripForce                  0\n",
       "sit and bend forward_cm    0\n",
       "sit-ups counts             0\n",
       "broad jump_cm              0\n",
       "class                      0\n",
       "dtype: int64"
      ]
     },
     "execution_count": 4,
     "metadata": {},
     "output_type": "execute_result"
    }
   ],
   "source": [
    "dataset.isnull().sum()"
   ]
  },
  {
   "cell_type": "code",
   "execution_count": 5,
   "metadata": {
    "colab": {
     "base_uri": "https://localhost:8080/"
    },
    "id": "TO4RPa7yFleB",
    "outputId": "4e9f7c3a-d074-4a6a-d45d-506a2b0d99d8"
   },
   "outputs": [
    {
     "data": {
      "text/plain": [
       "array(['C', 'A', 'B', 'D'], dtype=object)"
      ]
     },
     "execution_count": 5,
     "metadata": {},
     "output_type": "execute_result"
    }
   ],
   "source": [
    "dataset['class'].unique()"
   ]
  },
  {
   "cell_type": "code",
   "execution_count": 6,
   "metadata": {
    "colab": {
     "base_uri": "https://localhost:8080/"
    },
    "id": "rIm5sdNKFleC",
    "outputId": "3742136d-a8b3-4bfd-cad5-ee1d08931ff1"
   },
   "outputs": [
    {
     "name": "stdout",
     "output_type": "stream",
     "text": [
      "<class 'pandas.core.frame.DataFrame'>\n",
      "RangeIndex: 13393 entries, 0 to 13392\n",
      "Data columns (total 12 columns):\n",
      " #   Column                   Non-Null Count  Dtype  \n",
      "---  ------                   --------------  -----  \n",
      " 0   age                      13393 non-null  float64\n",
      " 1   gender                   13393 non-null  object \n",
      " 2   height_cm                13393 non-null  float64\n",
      " 3   weight_kg                13393 non-null  float64\n",
      " 4   body fat_%               13393 non-null  float64\n",
      " 5   diastolic                13393 non-null  float64\n",
      " 6   systolic                 13393 non-null  float64\n",
      " 7   gripForce                13393 non-null  float64\n",
      " 8   sit and bend forward_cm  13393 non-null  float64\n",
      " 9   sit-ups counts           13393 non-null  float64\n",
      " 10  broad jump_cm            13393 non-null  float64\n",
      " 11  class                    13393 non-null  object \n",
      "dtypes: float64(10), object(2)\n",
      "memory usage: 1.2+ MB\n"
     ]
    }
   ],
   "source": [
    "dataset.info()"
   ]
  },
  {
   "cell_type": "code",
   "execution_count": 7,
   "metadata": {
    "colab": {
     "base_uri": "https://localhost:8080/",
     "height": 206
    },
    "id": "u-6VBa7UFleC",
    "outputId": "5423b6c4-f2b8-4024-b1f3-04727e9eaea4"
   },
   "outputs": [
    {
     "data": {
      "text/html": [
       "<div>\n",
       "<style scoped>\n",
       "    .dataframe tbody tr th:only-of-type {\n",
       "        vertical-align: middle;\n",
       "    }\n",
       "\n",
       "    .dataframe tbody tr th {\n",
       "        vertical-align: top;\n",
       "    }\n",
       "\n",
       "    .dataframe thead th {\n",
       "        text-align: right;\n",
       "    }\n",
       "</style>\n",
       "<table border=\"1\" class=\"dataframe\">\n",
       "  <thead>\n",
       "    <tr style=\"text-align: right;\">\n",
       "      <th></th>\n",
       "      <th>age</th>\n",
       "      <th>gender</th>\n",
       "      <th>height_cm</th>\n",
       "      <th>weight_kg</th>\n",
       "      <th>body fat_%</th>\n",
       "      <th>diastolic</th>\n",
       "      <th>systolic</th>\n",
       "      <th>gripForce</th>\n",
       "      <th>sit and bend forward_cm</th>\n",
       "      <th>sit-ups counts</th>\n",
       "      <th>broad jump_cm</th>\n",
       "      <th>class</th>\n",
       "    </tr>\n",
       "  </thead>\n",
       "  <tbody>\n",
       "    <tr>\n",
       "      <th>0</th>\n",
       "      <td>27.0</td>\n",
       "      <td>1</td>\n",
       "      <td>172.3</td>\n",
       "      <td>75.24</td>\n",
       "      <td>21.3</td>\n",
       "      <td>80.0</td>\n",
       "      <td>130.0</td>\n",
       "      <td>54.9</td>\n",
       "      <td>18.4</td>\n",
       "      <td>60.0</td>\n",
       "      <td>217.0</td>\n",
       "      <td>2</td>\n",
       "    </tr>\n",
       "    <tr>\n",
       "      <th>1</th>\n",
       "      <td>25.0</td>\n",
       "      <td>1</td>\n",
       "      <td>165.0</td>\n",
       "      <td>55.80</td>\n",
       "      <td>15.7</td>\n",
       "      <td>77.0</td>\n",
       "      <td>126.0</td>\n",
       "      <td>36.4</td>\n",
       "      <td>16.3</td>\n",
       "      <td>53.0</td>\n",
       "      <td>229.0</td>\n",
       "      <td>0</td>\n",
       "    </tr>\n",
       "    <tr>\n",
       "      <th>2</th>\n",
       "      <td>31.0</td>\n",
       "      <td>1</td>\n",
       "      <td>179.6</td>\n",
       "      <td>78.00</td>\n",
       "      <td>20.1</td>\n",
       "      <td>92.0</td>\n",
       "      <td>152.0</td>\n",
       "      <td>44.8</td>\n",
       "      <td>12.0</td>\n",
       "      <td>49.0</td>\n",
       "      <td>181.0</td>\n",
       "      <td>2</td>\n",
       "    </tr>\n",
       "    <tr>\n",
       "      <th>3</th>\n",
       "      <td>32.0</td>\n",
       "      <td>1</td>\n",
       "      <td>174.5</td>\n",
       "      <td>71.10</td>\n",
       "      <td>18.4</td>\n",
       "      <td>76.0</td>\n",
       "      <td>147.0</td>\n",
       "      <td>41.4</td>\n",
       "      <td>15.2</td>\n",
       "      <td>53.0</td>\n",
       "      <td>219.0</td>\n",
       "      <td>1</td>\n",
       "    </tr>\n",
       "    <tr>\n",
       "      <th>4</th>\n",
       "      <td>28.0</td>\n",
       "      <td>1</td>\n",
       "      <td>173.8</td>\n",
       "      <td>67.70</td>\n",
       "      <td>17.1</td>\n",
       "      <td>70.0</td>\n",
       "      <td>127.0</td>\n",
       "      <td>43.5</td>\n",
       "      <td>27.1</td>\n",
       "      <td>45.0</td>\n",
       "      <td>217.0</td>\n",
       "      <td>1</td>\n",
       "    </tr>\n",
       "  </tbody>\n",
       "</table>\n",
       "</div>"
      ],
      "text/plain": [
       "    age  gender  height_cm  weight_kg  body fat_%  diastolic  systolic  \\\n",
       "0  27.0       1      172.3      75.24        21.3       80.0     130.0   \n",
       "1  25.0       1      165.0      55.80        15.7       77.0     126.0   \n",
       "2  31.0       1      179.6      78.00        20.1       92.0     152.0   \n",
       "3  32.0       1      174.5      71.10        18.4       76.0     147.0   \n",
       "4  28.0       1      173.8      67.70        17.1       70.0     127.0   \n",
       "\n",
       "   gripForce  sit and bend forward_cm  sit-ups counts  broad jump_cm  class  \n",
       "0       54.9                     18.4            60.0          217.0      2  \n",
       "1       36.4                     16.3            53.0          229.0      0  \n",
       "2       44.8                     12.0            49.0          181.0      2  \n",
       "3       41.4                     15.2            53.0          219.0      1  \n",
       "4       43.5                     27.1            45.0          217.0      1  "
      ]
     },
     "execution_count": 7,
     "metadata": {},
     "output_type": "execute_result"
    }
   ],
   "source": [
    "from sklearn.preprocessing import LabelEncoder\n",
    "lblEn_category = LabelEncoder()\n",
    "dataset['class'] =lblEn_category.fit_transform(dataset['class'])\n",
    "lblEn_gender = LabelEncoder()\n",
    "dataset['gender'] =lblEn_gender.fit_transform(dataset['gender'])\n",
    "dataset.head(5)"
   ]
  },
  {
   "cell_type": "markdown",
   "metadata": {
    "id": "261Daa70FleD"
   },
   "source": [
    "no null values, all columns converted to numeric"
   ]
  },
  {
   "cell_type": "code",
   "execution_count": 8,
   "metadata": {
    "colab": {
     "base_uri": "https://localhost:8080/"
    },
    "id": "ft-2gu4tFleF",
    "outputId": "466c8d8c-feff-4dab-ae21-e148d54b93b1"
   },
   "outputs": [
    {
     "data": {
      "text/plain": [
       "array(['A', 'B', 'C', 'D'], dtype=object)"
      ]
     },
     "execution_count": 8,
     "metadata": {},
     "output_type": "execute_result"
    }
   ],
   "source": [
    "lblEn_category.classes_"
   ]
  },
  {
   "cell_type": "code",
   "execution_count": 9,
   "metadata": {
    "colab": {
     "base_uri": "https://localhost:8080/"
    },
    "id": "BwS0mqLeFleG",
    "outputId": "79750237-b071-4770-87af-ab87bcd57518"
   },
   "outputs": [
    {
     "data": {
      "text/plain": [
       "array(['F', 'M'], dtype=object)"
      ]
     },
     "execution_count": 9,
     "metadata": {},
     "output_type": "execute_result"
    }
   ],
   "source": [
    "lblEn_gender.classes_"
   ]
  },
  {
   "cell_type": "raw",
   "metadata": {
    "id": "5G3WQjUoFleG"
   },
   "source": [
    "let's check the distribution now"
   ]
  },
  {
   "cell_type": "code",
   "execution_count": 10,
   "metadata": {
    "id": "YvRDri6EFleH"
   },
   "outputs": [],
   "source": [
    "import seaborn as sns\n",
    "import matplotlib.pyplot as plt"
   ]
  },
  {
   "cell_type": "code",
   "execution_count": 11,
   "metadata": {
    "colab": {
     "base_uri": "https://localhost:8080/",
     "height": 1000
    },
    "id": "C-qA-nJ_FleH",
    "outputId": "00a7a5b0-a7e8-45fe-9249-d3989b699358"
   },
   "outputs": [
    {
     "data": {
      "image/png": "[encoded data removed]",
      "text/plain": [
       "<Figure size 1152x1440 with 12 Axes>"
      ]
     },
     "metadata": {
      "needs_background": "light"
     },
     "output_type": "display_data"
    }
   ],
   "source": [
    "fig, axes = plt.subplots(4, 3, figsize=(16, 20))\n",
    "fig.suptitle('Distribution Plots')\n",
    "axs = axes.ravel()\n",
    "for i in range(0,dataset.shape[1]):\n",
    "    sns.histplot(ax=axs[i], data=dataset[dataset.columns[i]])   "
   ]
  },
  {
   "cell_type": "raw",
   "metadata": {
    "id": "oDp9Ws34FleI"
   },
   "source": [
    "let's check for covariance now"
   ]
  },
  {
   "cell_type": "code",
   "execution_count": 12,
   "metadata": {
    "colab": {
     "base_uri": "https://localhost:8080/",
     "height": 1000
    },
    "id": "EbxPu3uQFleI",
    "outputId": "24013c24-90ae-41d8-9ccf-1b854dc3464b"
   },
   "outputs": [
    {
     "data": {
      "image/png": "[encoded data removed]",
      "text/plain": [
       "<Figure size 1152x1440 with 12 Axes>"
      ]
     },
     "metadata": {
      "needs_background": "light"
     },
     "output_type": "display_data"
    }
   ],
   "source": [
    "fig, axes = plt.subplots(4, 3, figsize=(16, 20))\n",
    "fig.suptitle('Covariance Plots')\n",
    "axs = axes.ravel()\n",
    "for i in range(0,dataset.shape[1]):\n",
    "    axs[i].scatter(dataset[dataset.columns[i]],dataset['class'])  "
   ]
  },
  {
   "cell_type": "raw",
   "metadata": {
    "id": "YcYhqlAAFleJ"
   },
   "source": [
    "covariance plots will be used only for continuos output "
   ]
  },
  {
   "cell_type": "code",
   "execution_count": 13,
   "metadata": {
    "colab": {
     "base_uri": "https://localhost:8080/",
     "height": 618
    },
    "id": "0ik7zI1LFleJ",
    "outputId": "2da29662-ff89-4fc9-e6f6-f2bb5151d39e"
   },
   "outputs": [
    {
     "data": {
      "text/plain": [
       "<AxesSubplot:>"
      ]
     },
     "execution_count": 13,
     "metadata": {},
     "output_type": "execute_result"
    },
    {
     "data": {
      "image/png": "[encoded data removed]",
      "text/plain": [
       "<Figure size 576x576 with 2 Axes>"
      ]
     },
     "metadata": {
      "needs_background": "light"
     },
     "output_type": "display_data"
    }
   ],
   "source": [
    "#correltion plot\n",
    "fig, axes = plt.subplots(figsize=(8, 8))\n",
    "sns.heatmap(dataset.drop(axis=1, columns=['gender','class']).corr(), annot=True,ax=axes)"
   ]
  },
  {
   "cell_type": "markdown",
   "metadata": {
    "id": "Z4FOq4qbFleM"
   },
   "source": [
    "since no columns have correlation > 0.95, no need to drop any columns"
   ]
  },
  {
   "cell_type": "code",
   "execution_count": 14,
   "metadata": {
    "colab": {
     "base_uri": "https://localhost:8080/",
     "height": 299
    },
    "id": "k2MTLPmzFleM",
    "outputId": "b315fc2c-2b50-47b0-f5e1-693060cdd6fb"
   },
   "outputs": [
    {
     "name": "stderr",
     "output_type": "stream",
     "text": [
      "C:\\Users\\HP\\anaconda3\\lib\\site-packages\\seaborn\\_decorators.py:43: FutureWarning: Pass the following variable as a keyword arg: x. From version 0.12, the only valid positional argument will be `data`, and passing other arguments without an explicit keyword will result in an error or misinterpretation.\n",
      "  FutureWarning\n"
     ]
    },
    {
     "data": {
      "text/plain": [
       "<AxesSubplot:xlabel='class', ylabel='count'>"
      ]
     },
     "execution_count": 14,
     "metadata": {},
     "output_type": "execute_result"
    },
    {
     "data": {
      "image/png": "[encoded data removed]",
      "text/plain": [
       "<Figure size 432x288 with 1 Axes>"
      ]
     },
     "metadata": {
      "needs_background": "light"
     },
     "output_type": "display_data"
    }
   ],
   "source": [
    "sns.countplot(dataset['class'])"
   ]
  },
  {
   "cell_type": "markdown",
   "metadata": {
    "id": "zxj7rSq2FleN"
   },
   "source": [
    "output classes are well balanced"
   ]
  },
  {
   "cell_type": "code",
   "execution_count": 15,
   "metadata": {
    "id": "PYC_X5hrFleN"
   },
   "outputs": [],
   "source": [
    "x=dataset.drop(['class'],axis=1)\n",
    "y=dataset['class']"
   ]
  },
  {
   "cell_type": "markdown",
   "metadata": {
    "id": "gQnYnr76FleN"
   },
   "source": [
    "## clustering "
   ]
  },
  {
   "cell_type": "code",
   "execution_count": 16,
   "metadata": {
    "colab": {
     "base_uri": "https://localhost:8080/",
     "height": 295
    },
    "id": "2Jk2ICq2FleN",
    "outputId": "161dd99b-064c-41d6-a4cf-ca463439adf4"
   },
   "outputs": [
    {
     "data": {
      "image/png": "[encoded data removed]",
      "text/plain": [
       "<Figure size 432x288 with 1 Axes>"
      ]
     },
     "metadata": {
      "needs_background": "light"
     },
     "output_type": "display_data"
    }
   ],
   "source": [
    "from sklearn.cluster import KMeans\n",
    "\n",
    "wcss=[]\n",
    "for i in range(1,11):\n",
    "    kmeans = KMeans(init='k-means++',n_clusters=i, random_state=0).fit(x)\n",
    "    wcss.append(kmeans.inertia_)\n",
    "plt.plot(range(1,11),wcss) # creating the graph between WCSS and the number of clusters\n",
    "plt.title('The Elbow Method')\n",
    "plt.xlabel('Number of clusters')\n",
    "plt.ylabel('WCSS')\n",
    "plt.show()"
   ]
  },
  {
   "cell_type": "code",
   "execution_count": 17,
   "metadata": {
    "colab": {
     "base_uri": "https://localhost:8080/"
    },
    "id": "wF0TO61pmJqT",
    "outputId": "d2b1880a-d320-4d52-c014-9290465b290c"
   },
   "outputs": [
    {
     "name": "stdout",
     "output_type": "stream",
     "text": [
      "Requirement already satisfied: kneed in c:\\users\\hp\\anaconda3\\lib\\site-packages (0.7.0)\n",
      "Requirement already satisfied: scipy in c:\\users\\hp\\anaconda3\\lib\\site-packages (from kneed) (1.4.1)\n",
      "Requirement already satisfied: matplotlib in c:\\users\\hp\\appdata\\roaming\\python\\python37\\site-packages (from kneed) (3.5.1)\n",
      "Requirement already satisfied: numpy>=1.14.2 in c:\\users\\hp\\anaconda3\\lib\\site-packages (from kneed) (1.18.1)\n",
      "Requirement already satisfied: cycler>=0.10 in c:\\users\\hp\\anaconda3\\lib\\site-packages (from matplotlib->kneed) (0.10.0)\n",
      "Requirement already satisfied: fonttools>=4.22.0 in c:\\users\\hp\\anaconda3\\lib\\site-packages (from matplotlib->kneed) (4.29.1)\n",
      "Requirement already satisfied: pyparsing>=2.2.1 in c:\\users\\hp\\anaconda3\\lib\\site-packages (from matplotlib->kneed) (2.4.6)\n",
      "Requirement already satisfied: packaging>=20.0 in c:\\users\\hp\\anaconda3\\lib\\site-packages (from matplotlib->kneed) (20.1)\n",
      "Requirement already satisfied: pillow>=6.2.0 in c:\\users\\hp\\anaconda3\\lib\\site-packages (from matplotlib->kneed) (7.0.0)\n",
      "Requirement already satisfied: python-dateutil>=2.7 in c:\\users\\hp\\anaconda3\\lib\\site-packages (from matplotlib->kneed) (2.8.1)\n",
      "Requirement already satisfied: kiwisolver>=1.0.1 in c:\\users\\hp\\anaconda3\\lib\\site-packages (from matplotlib->kneed) (1.1.0)\n",
      "Requirement already satisfied: six in c:\\users\\hp\\anaconda3\\lib\\site-packages (from cycler>=0.10->matplotlib->kneed) (1.14.0)\n",
      "Requirement already satisfied: setuptools in c:\\users\\hp\\anaconda3\\lib\\site-packages (from kiwisolver>=1.0.1->matplotlib->kneed) (45.2.0.post20200210)\n",
      "Note: you may need to restart the kernel to use updated packages.\n"
     ]
    }
   ],
   "source": [
    "pip install kneed"
   ]
  },
  {
   "cell_type": "code",
   "execution_count": 18,
   "metadata": {
    "colab": {
     "base_uri": "https://localhost:8080/"
    },
    "id": "DCi96rFRFleO",
    "outputId": "f16e56c4-0c34-4ca8-a655-18f411b37363"
   },
   "outputs": [
    {
     "data": {
      "text/plain": [
       "3"
      ]
     },
     "execution_count": 18,
     "metadata": {},
     "output_type": "execute_result"
    }
   ],
   "source": [
    "from kneed import KneeLocator\n",
    "optimal_clusters=KneeLocator(range(1,11), wcss, curve='convex', direction='decreasing')\n",
    "optimal_clusters.knee"
   ]
  },
  {
   "cell_type": "code",
   "execution_count": null,
   "metadata": {
    "id": "lzo4ABOQGdHs"
   },
   "outputs": [],
   "source": []
  },
  {
   "cell_type": "code",
   "execution_count": 19,
   "metadata": {
    "colab": {
     "base_uri": "https://localhost:8080/"
    },
    "id": "3zwjzUm1FleP",
    "outputId": "9b19b07f-226e-4b97-8062-5b4ad197e627"
   },
   "outputs": [
    {
     "data": {
      "text/plain": [
       "13393"
      ]
     },
     "execution_count": 19,
     "metadata": {},
     "output_type": "execute_result"
    }
   ],
   "source": [
    "kmean = KMeans(init='k-means++',n_clusters=3, random_state=0)\n",
    "y_kmean=kmean.fit_predict(x)\n",
    "len(y_kmean)"
   ]
  },
  {
   "cell_type": "code",
   "execution_count": 20,
   "metadata": {
    "id": "IQDyhcuyFleP"
   },
   "outputs": [],
   "source": [
    "x['cluster']=y_kmean\n",
    "x['Labels']=y"
   ]
  },
  {
   "cell_type": "code",
   "execution_count": 21,
   "metadata": {
    "colab": {
     "base_uri": "https://localhost:8080/",
     "height": 206
    },
    "id": "5-QVLeV7FleP",
    "outputId": "f98561ed-1a01-4b95-be75-64dd45609526"
   },
   "outputs": [
    {
     "data": {
      "text/html": [
       "<div>\n",
       "<style scoped>\n",
       "    .dataframe tbody tr th:only-of-type {\n",
       "        vertical-align: middle;\n",
       "    }\n",
       "\n",
       "    .dataframe tbody tr th {\n",
       "        vertical-align: top;\n",
       "    }\n",
       "\n",
       "    .dataframe thead th {\n",
       "        text-align: right;\n",
       "    }\n",
       "</style>\n",
       "<table border=\"1\" class=\"dataframe\">\n",
       "  <thead>\n",
       "    <tr style=\"text-align: right;\">\n",
       "      <th></th>\n",
       "      <th>age</th>\n",
       "      <th>gender</th>\n",
       "      <th>height_cm</th>\n",
       "      <th>weight_kg</th>\n",
       "      <th>body fat_%</th>\n",
       "      <th>diastolic</th>\n",
       "      <th>systolic</th>\n",
       "      <th>gripForce</th>\n",
       "      <th>sit and bend forward_cm</th>\n",
       "      <th>sit-ups counts</th>\n",
       "      <th>broad jump_cm</th>\n",
       "      <th>cluster</th>\n",
       "      <th>Labels</th>\n",
       "    </tr>\n",
       "  </thead>\n",
       "  <tbody>\n",
       "    <tr>\n",
       "      <th>0</th>\n",
       "      <td>27.0</td>\n",
       "      <td>1</td>\n",
       "      <td>172.3</td>\n",
       "      <td>75.24</td>\n",
       "      <td>21.3</td>\n",
       "      <td>80.0</td>\n",
       "      <td>130.0</td>\n",
       "      <td>54.9</td>\n",
       "      <td>18.4</td>\n",
       "      <td>60.0</td>\n",
       "      <td>217.0</td>\n",
       "      <td>0</td>\n",
       "      <td>2</td>\n",
       "    </tr>\n",
       "    <tr>\n",
       "      <th>1</th>\n",
       "      <td>25.0</td>\n",
       "      <td>1</td>\n",
       "      <td>165.0</td>\n",
       "      <td>55.80</td>\n",
       "      <td>15.7</td>\n",
       "      <td>77.0</td>\n",
       "      <td>126.0</td>\n",
       "      <td>36.4</td>\n",
       "      <td>16.3</td>\n",
       "      <td>53.0</td>\n",
       "      <td>229.0</td>\n",
       "      <td>0</td>\n",
       "      <td>0</td>\n",
       "    </tr>\n",
       "    <tr>\n",
       "      <th>2</th>\n",
       "      <td>31.0</td>\n",
       "      <td>1</td>\n",
       "      <td>179.6</td>\n",
       "      <td>78.00</td>\n",
       "      <td>20.1</td>\n",
       "      <td>92.0</td>\n",
       "      <td>152.0</td>\n",
       "      <td>44.8</td>\n",
       "      <td>12.0</td>\n",
       "      <td>49.0</td>\n",
       "      <td>181.0</td>\n",
       "      <td>2</td>\n",
       "      <td>2</td>\n",
       "    </tr>\n",
       "    <tr>\n",
       "      <th>3</th>\n",
       "      <td>32.0</td>\n",
       "      <td>1</td>\n",
       "      <td>174.5</td>\n",
       "      <td>71.10</td>\n",
       "      <td>18.4</td>\n",
       "      <td>76.0</td>\n",
       "      <td>147.0</td>\n",
       "      <td>41.4</td>\n",
       "      <td>15.2</td>\n",
       "      <td>53.0</td>\n",
       "      <td>219.0</td>\n",
       "      <td>0</td>\n",
       "      <td>1</td>\n",
       "    </tr>\n",
       "    <tr>\n",
       "      <th>4</th>\n",
       "      <td>28.0</td>\n",
       "      <td>1</td>\n",
       "      <td>173.8</td>\n",
       "      <td>67.70</td>\n",
       "      <td>17.1</td>\n",
       "      <td>70.0</td>\n",
       "      <td>127.0</td>\n",
       "      <td>43.5</td>\n",
       "      <td>27.1</td>\n",
       "      <td>45.0</td>\n",
       "      <td>217.0</td>\n",
       "      <td>0</td>\n",
       "      <td>1</td>\n",
       "    </tr>\n",
       "  </tbody>\n",
       "</table>\n",
       "</div>"
      ],
      "text/plain": [
       "    age  gender  height_cm  weight_kg  body fat_%  diastolic  systolic  \\\n",
       "0  27.0       1      172.3      75.24        21.3       80.0     130.0   \n",
       "1  25.0       1      165.0      55.80        15.7       77.0     126.0   \n",
       "2  31.0       1      179.6      78.00        20.1       92.0     152.0   \n",
       "3  32.0       1      174.5      71.10        18.4       76.0     147.0   \n",
       "4  28.0       1      173.8      67.70        17.1       70.0     127.0   \n",
       "\n",
       "   gripForce  sit and bend forward_cm  sit-ups counts  broad jump_cm  cluster  \\\n",
       "0       54.9                     18.4            60.0          217.0        0   \n",
       "1       36.4                     16.3            53.0          229.0        0   \n",
       "2       44.8                     12.0            49.0          181.0        2   \n",
       "3       41.4                     15.2            53.0          219.0        0   \n",
       "4       43.5                     27.1            45.0          217.0        0   \n",
       "\n",
       "   Labels  \n",
       "0       2  \n",
       "1       0  \n",
       "2       2  \n",
       "3       1  \n",
       "4       1  "
      ]
     },
     "execution_count": 21,
     "metadata": {},
     "output_type": "execute_result"
    }
   ],
   "source": [
    "x.head()"
   ]
  },
  {
   "cell_type": "code",
   "execution_count": 22,
   "metadata": {
    "colab": {
     "base_uri": "https://localhost:8080/"
    },
    "id": "xmIvMx_VFleP",
    "outputId": "0ed596a0-d356-4472-b7f5-4baca4616d11"
   },
   "outputs": [
    {
     "data": {
      "text/plain": [
       "0    5502\n",
       "2    5148\n",
       "1    2743\n",
       "Name: cluster, dtype: int64"
      ]
     },
     "execution_count": 22,
     "metadata": {},
     "output_type": "execute_result"
    }
   ],
   "source": [
    "x['cluster'].value_counts()"
   ]
  },
  {
   "cell_type": "markdown",
   "metadata": {
    "id": "0foT4rnijW__"
   },
   "source": [
    "### Cluster 1 Training:"
   ]
  },
  {
   "cell_type": "code",
   "execution_count": 23,
   "metadata": {
    "id": "geiwSWYZFleP"
   },
   "outputs": [],
   "source": [
    "cluster_data=x[x['cluster']==0] #1st cluster\n",
    "cluster_features=cluster_data.drop(['Labels','cluster'],axis=1)\n",
    "cluster_label= cluster_data['Labels']"
   ]
  },
  {
   "cell_type": "raw",
   "metadata": {
    "id": "vZflgMqPFleQ"
   },
   "source": [
    "Models to be trained : \n",
    "1.Logistic Regression\n",
    "2.SVC\n",
    "3.DTC\n",
    "4.KNN\n",
    "5.Naive Bayes"
   ]
  },
  {
   "cell_type": "raw",
   "metadata": {
    "id": "Z8_rOfrOFleQ"
   },
   "source": [
    "Ensembled techniques to be used:\n",
    "1.Bagging\n",
    "2.Boosting\n",
    "3.Stacking"
   ]
  },
  {
   "cell_type": "code",
   "execution_count": 24,
   "metadata": {
    "id": "lzUcDA3jFleQ"
   },
   "outputs": [],
   "source": [
    "from sklearn.preprocessing import StandardScaler\n",
    "cluster_featuresscaled = StandardScaler().fit_transform(cluster_features)"
   ]
  },
  {
   "cell_type": "code",
   "execution_count": 25,
   "metadata": {
    "id": "G6geCS2gFleQ"
   },
   "outputs": [],
   "source": [
    "from sklearn.model_selection import train_test_split\n",
    "x_train, x_test, y_train, y_test = train_test_split(cluster_featuresscaled, cluster_label, test_size=1 / 3, random_state=355)"
   ]
  },
  {
   "cell_type": "code",
   "execution_count": 26,
   "metadata": {
    "id": "pQv8FWLbFleQ"
   },
   "outputs": [],
   "source": [
    "accuracy_table=pd.DataFrame(columns=['Model','TrainAcuracy','TestAcuracy','TrainAcuracy_Tuning','TestAcuracy_Tuning'])"
   ]
  },
  {
   "cell_type": "markdown",
   "metadata": {
    "id": "YBirSpAzFleR"
   },
   "source": [
    "#### 1. Logistic Regression"
   ]
  },
  {
   "cell_type": "code",
   "execution_count": 27,
   "metadata": {
    "colab": {
     "base_uri": "https://localhost:8080/"
    },
    "id": "Vc9fxkFLFleR",
    "outputId": "989666ce-4416-4d3a-a97c-ee374b4a6e23"
   },
   "outputs": [
    {
     "name": "stdout",
     "output_type": "stream",
     "text": [
      "training score: 0.6035986913849509\n",
      "testing score: 0.6008724100327154\n"
     ]
    }
   ],
   "source": [
    "from sklearn.linear_model import LogisticRegression\n",
    "LogRegclf = LogisticRegression(random_state=0).fit(x_train, y_train)\n",
    "print(f'training score: {LogRegclf.score(x_train, y_train)}')\n",
    "print(f'testing score: {LogRegclf.score(x_test, y_test)}')"
   ]
  },
  {
   "cell_type": "code",
   "execution_count": 28,
   "metadata": {
    "colab": {
     "base_uri": "https://localhost:8080/"
    },
    "id": "Gc3vfRylFleR",
    "outputId": "d25a029a-2675-46f7-ca4c-1cb6d7e94a75"
   },
   "outputs": [
    {
     "data": {
      "text/plain": [
       "'\\nparameters = {\\'solver\\':[\\'newton-cg\\', \\'sag\\',\\'saga\\',\\'lbfgs\\'], \\'multi_class\\':[\\'auto\\'],\\'penalty\\':[\\'l1\\', \\'l2\\', \\'elasticnet\\'],\\'C\\':np.logspace(-3,3,7)}\\nLogRegclf_Regu = LogisticRegression()\\nLogRegclf_GSCV = GridSearchCV(LogRegclf_Regu, parameters, cv=8).fit(x_train,y_train)\\nprint(\"tuned hpyerparameters :(best parameters) \",LogRegclf_GSCV.best_params_)\\nprint(\"accuracy :\",LogRegclf_GSCV.best_score_)\\n'"
      ]
     },
     "execution_count": 28,
     "metadata": {},
     "output_type": "execute_result"
    }
   ],
   "source": [
    "from sklearn.model_selection import GridSearchCV\n",
    "import numpy as np\n",
    "import warnings\n",
    "warnings.filterwarnings('ignore')\n",
    "'''\n",
    "parameters = {'solver':['newton-cg', 'sag','saga','lbfgs'], 'multi_class':['auto'],'penalty':['l1', 'l2', 'elasticnet'],'C':np.logspace(-3,3,7)}\n",
    "LogRegclf_Regu = LogisticRegression()\n",
    "LogRegclf_GSCV = GridSearchCV(LogRegclf_Regu, parameters, cv=8).fit(x_train,y_train)\n",
    "print(\"tuned hpyerparameters :(best parameters) \",LogRegclf_GSCV.best_params_)\n",
    "print(\"accuracy :\",LogRegclf_GSCV.best_score_)\n",
    "'''"
   ]
  },
  {
   "cell_type": "code",
   "execution_count": 29,
   "metadata": {
    "colab": {
     "base_uri": "https://localhost:8080/"
    },
    "id": "ALMeboELFleS",
    "outputId": "93ccd561-653b-497c-f7f5-bf1141069142"
   },
   "outputs": [
    {
     "name": "stdout",
     "output_type": "stream",
     "text": [
      "training score: 0.6079607415485279\n",
      "testing score: 0.6030534351145038\n"
     ]
    }
   ],
   "source": [
    "LogRegclf1 = LogisticRegression(C= 0.01, multi_class= 'auto', penalty= 'l2', solver= 'newton-cg',random_state=0).fit(x_train, y_train)\n",
    "print(f'training score: {LogRegclf1.score(x_train, y_train)}')\n",
    "print(f'testing score: {LogRegclf1.score(x_test, y_test)}')"
   ]
  },
  {
   "cell_type": "code",
   "execution_count": 30,
   "metadata": {
    "id": "3rZnFKjpFleS"
   },
   "outputs": [],
   "source": [
    "accuracy_table.loc[0]=['Logistic Regression',LogRegclf.score(x_train, y_train),LogRegclf.score(x_test, y_test),LogRegclf1.score(x_train, y_train),LogRegclf1.score(x_test, y_test)]"
   ]
  },
  {
   "cell_type": "markdown",
   "metadata": {
    "id": "evR53OX_FleS"
   },
   "source": [
    "#### 2. SVC"
   ]
  },
  {
   "cell_type": "code",
   "execution_count": 31,
   "metadata": {
    "colab": {
     "base_uri": "https://localhost:8080/"
    },
    "id": "Y9_uPocTFleS",
    "outputId": "8423d87a-eb50-4db9-add3-fa04943d2c09"
   },
   "outputs": [
    {
     "name": "stdout",
     "output_type": "stream",
     "text": [
      "training score: 0.7369138495092693\n",
      "testing score: 0.6570338058887677\n"
     ]
    }
   ],
   "source": [
    "from sklearn.svm import SVC\n",
    "SVCclf = SVC(random_state = 0).fit(x_train, y_train)\n",
    "print(f'training score: {SVCclf.score(x_train, y_train)}')\n",
    "print(f'testing score: {SVCclf.score(x_test, y_test)}')"
   ]
  },
  {
   "cell_type": "code",
   "execution_count": 32,
   "metadata": {
    "colab": {
     "base_uri": "https://localhost:8080/"
    },
    "id": "Ctfkk5fmFleS",
    "outputId": "1d88756e-b0ef-4ac6-e5ec-42d264554e99"
   },
   "outputs": [
    {
     "data": {
      "text/plain": [
       "'\\nparameters ={\\'C\\': [0.1, 1, 10, 100, 1000],\\'gamma\\': [1, 0.1, 0.01, 0.001, 0.0001],\\'kernel\\': [\\'rbf\\']}\\nSVC_Regu = SVC(random_state = 0)\\nSVC_GSCV = GridSearchCV(SVC_Regu, parameters, cv=7).fit(x_train,y_train)\\nprint(\"tuned hpyerparameters :(best parameters) \",SVC_GSCV.best_params_)\\nprint(\"accuracy :\",SVC_GSCV.best_score_)\\n'"
      ]
     },
     "execution_count": 32,
     "metadata": {},
     "output_type": "execute_result"
    }
   ],
   "source": [
    "'''\n",
    "parameters ={'C': [0.1, 1, 10, 100, 1000],'gamma': [1, 0.1, 0.01, 0.001, 0.0001],'kernel': ['rbf']}\n",
    "SVC_Regu = SVC(random_state = 0)\n",
    "SVC_GSCV = GridSearchCV(SVC_Regu, parameters, cv=7).fit(x_train,y_train)\n",
    "print(\"tuned hpyerparameters :(best parameters) \",SVC_GSCV.best_params_)\n",
    "print(\"accuracy :\",SVC_GSCV.best_score_)\n",
    "'''"
   ]
  },
  {
   "cell_type": "code",
   "execution_count": 33,
   "metadata": {
    "colab": {
     "base_uri": "https://localhost:8080/"
    },
    "id": "CPA6oxW1FleT",
    "outputId": "81d88bf4-ade0-4860-c27e-e8b0eb5abf26"
   },
   "outputs": [
    {
     "name": "stdout",
     "output_type": "stream",
     "text": [
      "training score: 0.7262813522355507\n",
      "testing score: 0.6728462377317339\n"
     ]
    }
   ],
   "source": [
    "SVC1 = SVC(C= 100, gamma= 0.01, kernel='rbf', random_state=0).fit(x_train, y_train)\n",
    "print(f'training score: {SVC1.score(x_train, y_train)}')\n",
    "print(f'testing score: {SVC1.score(x_test, y_test)}')"
   ]
  },
  {
   "cell_type": "code",
   "execution_count": 34,
   "metadata": {
    "id": "Qkgelk-OFleT"
   },
   "outputs": [],
   "source": [
    "accuracy_table.loc[1]=['SVC',SVCclf.score(x_train, y_train),SVCclf.score(x_test, y_test),\n",
    "                       SVC1.score(x_train, y_train),SVC1.score(x_test, y_test)]"
   ]
  },
  {
   "cell_type": "markdown",
   "metadata": {
    "id": "sa7RAPr7FleT"
   },
   "source": [
    "#### 3. Decision Tree Classifier"
   ]
  },
  {
   "cell_type": "code",
   "execution_count": 35,
   "metadata": {
    "colab": {
     "base_uri": "https://localhost:8080/"
    },
    "id": "TgFk9L7fFleT",
    "outputId": "966d1fa7-c190-4fac-fd6b-a05f7f64ec20"
   },
   "outputs": [
    {
     "name": "stdout",
     "output_type": "stream",
     "text": [
      "training score: 1.0\n",
      "testing score: 0.6314067611777535\n"
     ]
    }
   ],
   "source": [
    "from sklearn.tree import DecisionTreeClassifier\n",
    "DTC = DecisionTreeClassifier(random_state=0).fit(x_train, y_train)\n",
    "print(f'training score: {DTC.score(x_train, y_train)}')\n",
    "print(f'testing score: {DTC.score(x_test, y_test)}')"
   ]
  },
  {
   "cell_type": "code",
   "execution_count": 36,
   "metadata": {
    "colab": {
     "base_uri": "https://localhost:8080/"
    },
    "id": "VKc_e3nnFleU",
    "outputId": "b764a273-8ca1-44ba-cf9a-37d04c64b83c"
   },
   "outputs": [
    {
     "data": {
      "text/plain": [
       "'\\nparameters ={\\'max_depth\\': [2, 3, 5, 10, 20],\\'min_samples_leaf\\': [5, 10, 20, 50, 100],\\'criterion\\': [\"gini\", \"entropy\"]}\\nfor i in  range(2,11):   \\n    DTC_Regu = DecisionTreeClassifier(random_state = 0)\\n    DTC_GSCV = GridSearchCV(DTC_Regu, parameters, cv=i).fit(x_train,y_train)\\n    print(\"tuned hpyerparameters :(best parameters) \",DTC_GSCV.best_params_)\\n    print(\"accuracy :\",DTC_GSCV.best_score_)\\n    '"
      ]
     },
     "execution_count": 36,
     "metadata": {},
     "output_type": "execute_result"
    }
   ],
   "source": [
    "'''\n",
    "parameters ={'max_depth': [2, 3, 5, 10, 20],'min_samples_leaf': [5, 10, 20, 50, 100],'criterion': [\"gini\", \"entropy\"]}\n",
    "for i in  range(2,11):   \n",
    "    DTC_Regu = DecisionTreeClassifier(random_state = 0)\n",
    "    DTC_GSCV = GridSearchCV(DTC_Regu, parameters, cv=i).fit(x_train,y_train)\n",
    "    print(\"tuned hpyerparameters :(best parameters) \",DTC_GSCV.best_params_)\n",
    "    print(\"accuracy :\",DTC_GSCV.best_score_)\n",
    "    '''"
   ]
  },
  {
   "cell_type": "code",
   "execution_count": 37,
   "metadata": {
    "colab": {
     "base_uri": "https://localhost:8080/"
    },
    "id": "-2fOcC5oFleU",
    "outputId": "74fceaf9-9a5a-4605-d24a-6f9a919c9512"
   },
   "outputs": [
    {
     "name": "stdout",
     "output_type": "stream",
     "text": [
      "training score: 0.7778080697928026\n",
      "testing score: 0.6826608505997819\n"
     ]
    }
   ],
   "source": [
    "DTC1 = DecisionTreeClassifier(criterion= 'gini', max_depth= 10, min_samples_leaf= 10, random_state=0).fit(x_train, y_train)\n",
    "print(f'training score: {DTC1.score(x_train, y_train)}')\n",
    "print(f'testing score: {DTC1.score(x_test, y_test)}')"
   ]
  },
  {
   "cell_type": "code",
   "execution_count": 38,
   "metadata": {
    "id": "kNHmquw9FleU"
   },
   "outputs": [],
   "source": [
    "accuracy_table.loc[2]=['Decision Tree Classifier',DTC.score(x_train, y_train),DTC.score(x_test, y_test),\n",
    "                       DTC1.score(x_train, y_train),DTC1.score(x_test, y_test)]"
   ]
  },
  {
   "cell_type": "markdown",
   "metadata": {
    "id": "6v71qvh0FleU"
   },
   "source": [
    "#### 4. KNN"
   ]
  },
  {
   "cell_type": "code",
   "execution_count": 39,
   "metadata": {
    "colab": {
     "base_uri": "https://localhost:8080/"
    },
    "id": "V8yDAJCpFleU",
    "outputId": "bcd54eb1-43e8-4694-b442-cfeeee80f3fd"
   },
   "outputs": [
    {
     "name": "stdout",
     "output_type": "stream",
     "text": [
      "training score: 0.7044711014176663\n",
      "testing score: 0.5381679389312977\n"
     ]
    }
   ],
   "source": [
    "from sklearn.neighbors import KNeighborsClassifier\n",
    "neigh = KNeighborsClassifier().fit(x_train, y_train)\n",
    "print(f'training score: {neigh.score(x_train, y_train)}')\n",
    "print(f'testing score: {neigh.score(x_test, y_test)}')"
   ]
  },
  {
   "cell_type": "code",
   "execution_count": 40,
   "metadata": {
    "colab": {
     "base_uri": "https://localhost:8080/"
    },
    "id": "_40AxBoMFleV",
    "outputId": "a46012d7-adcb-49ef-d39e-5538ccc5f1db"
   },
   "outputs": [
    {
     "data": {
      "text/plain": [
       "'\\nparameters ={ \\'algorithm\\' : [\\'ball_tree\\', \\'kd_tree\\', \\'brute\\'],\\n               \\'leaf_size\\' : [18,20,25,27,30,32,34],\\n               \\'n_neighbors\\' : [3,5,7,9,10,11,12,13]\\n              }\\nfor i in  range(2,11):   \\n    neigh_Regu = KNeighborsClassifier()\\n    neigh_GSCV = GridSearchCV(neigh_Regu, parameters, cv=i).fit(x_train,y_train)\\n    print(\"tuned hpyerparameters :(best parameters) \",neigh_GSCV.best_params_)\\n    print(\"accuracy :\",neigh_GSCV.best_score_)\\n    '"
      ]
     },
     "execution_count": 40,
     "metadata": {},
     "output_type": "execute_result"
    }
   ],
   "source": [
    "'''\n",
    "parameters ={ 'algorithm' : ['ball_tree', 'kd_tree', 'brute'],\n",
    "               'leaf_size' : [18,20,25,27,30,32,34],\n",
    "               'n_neighbors' : [3,5,7,9,10,11,12,13]\n",
    "              }\n",
    "for i in  range(2,11):   \n",
    "    neigh_Regu = KNeighborsClassifier()\n",
    "    neigh_GSCV = GridSearchCV(neigh_Regu, parameters, cv=i).fit(x_train,y_train)\n",
    "    print(\"tuned hpyerparameters :(best parameters) \",neigh_GSCV.best_params_)\n",
    "    print(\"accuracy :\",neigh_GSCV.best_score_)\n",
    "    '''"
   ]
  },
  {
   "cell_type": "code",
   "execution_count": 41,
   "metadata": {
    "colab": {
     "base_uri": "https://localhost:8080/"
    },
    "id": "85rp7LXPFleV",
    "outputId": "d7ee2ded-1c90-4f2b-8862-607b0073e961"
   },
   "outputs": [
    {
     "name": "stdout",
     "output_type": "stream",
     "text": [
      "training score: 0.6548527808069793\n",
      "testing score: 0.5648854961832062\n"
     ]
    }
   ],
   "source": [
    "neigh1 = KNeighborsClassifier(algorithm= 'ball_tree', leaf_size= 18, n_neighbors= 13).fit(x_train, y_train)\n",
    "print(f'training score: {neigh1.score(x_train, y_train)}')\n",
    "print(f'testing score: {neigh1.score(x_test, y_test)}')"
   ]
  },
  {
   "cell_type": "code",
   "execution_count": 42,
   "metadata": {
    "id": "KnQiV8yoFleV"
   },
   "outputs": [],
   "source": [
    "accuracy_table.loc[3]=['KNN',neigh.score(x_train, y_train),neigh.score(x_test, y_test),\n",
    "                       neigh1.score(x_train, y_train),neigh1.score(x_test, y_test)]"
   ]
  },
  {
   "cell_type": "markdown",
   "metadata": {
    "id": "7y6TW5xAFleV"
   },
   "source": [
    "#### 5. Naive Bayes"
   ]
  },
  {
   "cell_type": "code",
   "execution_count": 43,
   "metadata": {
    "colab": {
     "base_uri": "https://localhost:8080/"
    },
    "id": "5E5L4eqrFleV",
    "outputId": "12174425-eee1-4ccd-ec8e-bf322ff98a03"
   },
   "outputs": [
    {
     "name": "stdout",
     "output_type": "stream",
     "text": [
      "training score: 0.17693565976008724\n",
      "testing score: 0.18865866957470012\n"
     ]
    }
   ],
   "source": [
    "from sklearn.naive_bayes import GaussianNB\n",
    "NB = GaussianNB().fit(x_train, y_train)\n",
    "print(f'training score: {NB.score(x_train, y_train)}')\n",
    "print(f'testing score: {NB.score(x_test, y_test)}')"
   ]
  },
  {
   "cell_type": "code",
   "execution_count": 44,
   "metadata": {
    "colab": {
     "base_uri": "https://localhost:8080/"
    },
    "id": "S4AhCjfwFleW",
    "outputId": "d8f8b0d9-0c75-4c12-e58a-6e071acc9849"
   },
   "outputs": [
    {
     "data": {
      "text/plain": [
       "'\\nfrom sklearn.model_selection import RepeatedStratifiedKFold\\n\\ncv_method = RepeatedStratifiedKFold(n_splits=5, \\n                                    n_repeats=3, \\n                                    random_state=999)\\nparams_NB = {\\'var_smoothing\\': np.logspace(0,-9, num=100)}\\n\\nNB_Regu = GaussianNB()\\nNB_GSCV = GridSearchCV(estimator=NB_Regu, param_grid=params_NB, cv=cv_method, scoring=\\'accuracy\\').fit(x_train,y_train)\\nprint(\"tuned hpyerparameters :(best parameters) \",NB_GSCV.best_params_)\\nprint(\"accuracy :\",NB_GSCV.best_score_)\\n'"
      ]
     },
     "execution_count": 44,
     "metadata": {},
     "output_type": "execute_result"
    }
   ],
   "source": [
    "'''\n",
    "from sklearn.model_selection import RepeatedStratifiedKFold\n",
    "\n",
    "cv_method = RepeatedStratifiedKFold(n_splits=5, \n",
    "                                    n_repeats=3, \n",
    "                                    random_state=999)\n",
    "params_NB = {'var_smoothing': np.logspace(0,-9, num=100)}\n",
    "\n",
    "NB_Regu = GaussianNB()\n",
    "NB_GSCV = GridSearchCV(estimator=NB_Regu, param_grid=params_NB, cv=cv_method, scoring='accuracy').fit(x_train,y_train)\n",
    "print(\"tuned hpyerparameters :(best parameters) \",NB_GSCV.best_params_)\n",
    "print(\"accuracy :\",NB_GSCV.best_score_)\n",
    "'''"
   ]
  },
  {
   "cell_type": "code",
   "execution_count": 45,
   "metadata": {
    "colab": {
     "base_uri": "https://localhost:8080/"
    },
    "id": "Ru25yQv7FleW",
    "outputId": "f4164e69-dab2-4603-b5c5-1646488fa013"
   },
   "outputs": [
    {
     "name": "stdout",
     "output_type": "stream",
     "text": [
      "training score: 0.5711559432933478\n",
      "testing score: 0.5616139585605234\n"
     ]
    }
   ],
   "source": [
    "NB1 = GaussianNB(var_smoothing=0.43287612810830584).fit(x_train, y_train)\n",
    "print(f'training score: {NB1.score(x_train, y_train)}')\n",
    "print(f'testing score: {NB1.score(x_test, y_test)}')"
   ]
  },
  {
   "cell_type": "code",
   "execution_count": 46,
   "metadata": {
    "id": "hZW7a6_dFleW"
   },
   "outputs": [],
   "source": [
    "accuracy_table.loc[4]=['Naive Bayes',NB.score(x_train, y_train),NB.score(x_test, y_test),\n",
    "                       NB1.score(x_train, y_train),NB1.score(x_test, y_test)]"
   ]
  },
  {
   "cell_type": "markdown",
   "metadata": {
    "id": "fiWDpF-eFleX"
   },
   "source": [
    "#### 6. Random Forest"
   ]
  },
  {
   "cell_type": "code",
   "execution_count": 47,
   "metadata": {
    "colab": {
     "base_uri": "https://localhost:8080/"
    },
    "id": "khCCdjRPFleX",
    "outputId": "c5f2a20e-5112-42b3-c7f9-84a6d767e672"
   },
   "outputs": [
    {
     "name": "stdout",
     "output_type": "stream",
     "text": [
      "training score: 1.0\n",
      "testing score: 0.7268266085059978\n"
     ]
    }
   ],
   "source": [
    "from sklearn.ensemble import RandomForestClassifier\n",
    "rand_clf = RandomForestClassifier(random_state=6).fit(x_train,y_train)\n",
    "print(f'training score: {rand_clf.score(x_train, y_train)}')\n",
    "print(f'testing score: {rand_clf.score(x_test, y_test)}')"
   ]
  },
  {
   "cell_type": "code",
   "execution_count": 48,
   "metadata": {
    "colab": {
     "base_uri": "https://localhost:8080/"
    },
    "id": "waH-2P6pFleX",
    "outputId": "c7aed659-a15f-4d6c-97a2-c1a23b0beda5"
   },
   "outputs": [
    {
     "data": {
      "text/plain": [
       "'\\nfrom sklearn.model_selection import GridSearchCV\\nparameters ={ \\'n_estimators\\' : [115,130,145],\\n              #\\'criterion\\': [\\'gini\\', \\'entropy\\'],\\n              \\'max_depth\\' : [100, 110,120,130],\\n              #\\'min_samples_leaf\\' : range(2,5,1),\\n              #\\'min_samples_split\\': range(2,10,2),\\n              #\\'max_features\\' : [\\'auto\\',\\'log2\\']\\n              }\\nfor i in  range(2,11):\\n  RF_GSCV = GridSearchCV(RandomForestClassifier(), parameters, cv=i).fit(x_train,y_train)\\n  print(\"tuned hpyerparameters :(best parameters) \",RF_GSCV.best_params_)\\n  print(\"accuracy :\",RF_GSCV.best_score_)\\n  '"
      ]
     },
     "execution_count": 48,
     "metadata": {},
     "output_type": "execute_result"
    }
   ],
   "source": [
    "'''\n",
    "from sklearn.model_selection import GridSearchCV\n",
    "parameters ={ 'n_estimators' : [115,130,145],\n",
    "              #'criterion': ['gini', 'entropy'],\n",
    "              'max_depth' : [100, 110,120,130],\n",
    "              #'min_samples_leaf' : range(2,5,1),\n",
    "              #'min_samples_split': range(2,10,2),\n",
    "              #'max_features' : ['auto','log2']\n",
    "              }\n",
    "for i in  range(2,11):\n",
    "  RF_GSCV = GridSearchCV(RandomForestClassifier(), parameters, cv=i).fit(x_train,y_train)\n",
    "  print(\"tuned hpyerparameters :(best parameters) \",RF_GSCV.best_params_)\n",
    "  print(\"accuracy :\",RF_GSCV.best_score_)\n",
    "  '''"
   ]
  },
  {
   "cell_type": "code",
   "execution_count": 49,
   "metadata": {
    "colab": {
     "base_uri": "https://localhost:8080/"
    },
    "id": "BsP7cBnOFleX",
    "outputId": "4f44a57f-5414-4cbe-900a-22eeb2dd77fc"
   },
   "outputs": [
    {
     "name": "stdout",
     "output_type": "stream",
     "text": [
      "training score: 1.0\n",
      "testing score: 0.7284623773173392\n"
     ]
    }
   ],
   "source": [
    "rand_clf1 = RandomForestClassifier(random_state=6,max_depth= 100, n_estimators= 145).fit(x_train,y_train)\n",
    "print(f'training score: {rand_clf1.score(x_train, y_train)}')\n",
    "print(f'testing score: {rand_clf1.score(x_test, y_test)}')"
   ]
  },
  {
   "cell_type": "code",
   "execution_count": 50,
   "metadata": {
    "id": "yIYiHLoPFleX"
   },
   "outputs": [],
   "source": [
    "accuracy_table.loc[5]=['Random Forest',rand_clf.score(x_train, y_train),rand_clf.score(x_test, y_test),\n",
    "                       rand_clf1.score(x_train, y_train),rand_clf1.score(x_test, y_test)]"
   ]
  },
  {
   "cell_type": "code",
   "execution_count": 51,
   "metadata": {
    "id": "6WKGSLhYCN69"
   },
   "outputs": [],
   "source": [
    "#pip install xgboost"
   ]
  },
  {
   "cell_type": "markdown",
   "metadata": {
    "id": "yEWgrSWHCrhn"
   },
   "source": [
    "#### 7. XG Boost"
   ]
  },
  {
   "cell_type": "code",
   "execution_count": 52,
   "metadata": {
    "colab": {
     "base_uri": "https://localhost:8080/"
    },
    "id": "1GZTPo-VCm02",
    "outputId": "30b919f0-5782-4c80-ede6-d0ed373888f5"
   },
   "outputs": [
    {
     "name": "stdout",
     "output_type": "stream",
     "text": [
      "training score: 0.9989094874591058\n",
      "testing score: 0.7230098146128681\n"
     ]
    }
   ],
   "source": [
    "from xgboost import XGBClassifier\n",
    "XG = XGBClassifier(random_state=6).fit(x_train,y_train)\n",
    "print(f'training score: {XG.score(x_train, y_train)}')\n",
    "print(f'testing score: {XG.score(x_test, y_test)}')"
   ]
  },
  {
   "cell_type": "code",
   "execution_count": 53,
   "metadata": {
    "colab": {
     "base_uri": "https://localhost:8080/"
    },
    "id": "am9zrT04Eg4R",
    "outputId": "286b80a3-35d1-4829-e286-dba0929a312c"
   },
   "outputs": [
    {
     "data": {
      "text/plain": [
       "'\\nparameters ={ \\'n_estimators\\' : range(90,130,10),\\n              #\\'criterion\\': [\\'gini\\', \\'entropy\\'],\\n              \\'max_depth\\' : range(2,11,1),\\n              #\\'min_samples_leaf\\' : range(2,5,1),\\n              #\\'min_samples_split\\': range(2,10,2),\\n              #\\'max_features\\' : [\\'auto\\',\\'log2\\']\\n              }\\n\\nfor i in  range(2,11):\\n  XG_GSCV = GridSearchCV(XGBClassifier(), parameters, cv=i).fit(x_train,y_train)\\n  print(\"tuned hpyerparameters :(best parameters) \",XG_GSCV.best_params_)\\n  print(\"accuracy :\",XG_GSCV.best_score_)\\n  '"
      ]
     },
     "execution_count": 53,
     "metadata": {},
     "output_type": "execute_result"
    }
   ],
   "source": [
    "'''\n",
    "parameters ={ 'n_estimators' : range(90,130,10),\n",
    "              #'criterion': ['gini', 'entropy'],\n",
    "              'max_depth' : range(2,11,1),\n",
    "              #'min_samples_leaf' : range(2,5,1),\n",
    "              #'min_samples_split': range(2,10,2),\n",
    "              #'max_features' : ['auto','log2']\n",
    "              }\n",
    "\n",
    "for i in  range(2,11):\n",
    "  XG_GSCV = GridSearchCV(XGBClassifier(), parameters, cv=i).fit(x_train,y_train)\n",
    "  print(\"tuned hpyerparameters :(best parameters) \",XG_GSCV.best_params_)\n",
    "  print(\"accuracy :\",XG_GSCV.best_score_)\n",
    "  '''"
   ]
  },
  {
   "cell_type": "code",
   "execution_count": 54,
   "metadata": {
    "colab": {
     "base_uri": "https://localhost:8080/"
    },
    "id": "gME3Q15SGa0I",
    "outputId": "a1d6eb1d-2bfd-4570-8862-5ab9de307082"
   },
   "outputs": [
    {
     "name": "stdout",
     "output_type": "stream",
     "text": [
      "training score: 0.9841875681570338\n",
      "testing score: 0.7306434023991276\n"
     ]
    }
   ],
   "source": [
    "XG1 = XGBClassifier(max_depth = 5, n_estimators = 100,random_state=6).fit(x_train,y_train)\n",
    "print(f'training score: {XG1.score(x_train, y_train)}')\n",
    "print(f'testing score: {XG1.score(x_test, y_test)}')"
   ]
  },
  {
   "cell_type": "code",
   "execution_count": 55,
   "metadata": {
    "id": "pD_MVqdJYXEF"
   },
   "outputs": [],
   "source": [
    "accuracy_table.loc[6]=['XG Boost',XG.score(x_train, y_train),XG.score(x_test, y_test),\n",
    "                       XG1.score(x_train, y_train),XG1.score(x_test, y_test)]"
   ]
  },
  {
   "cell_type": "code",
   "execution_count": 56,
   "metadata": {
    "colab": {
     "base_uri": "https://localhost:8080/"
    },
    "id": "KsHYffMCYpRL",
    "outputId": "b99ae6dc-22bb-4a4f-99fd-23705069f3f8"
   },
   "outputs": [
    {
     "data": {
      "text/html": [
       "<div>\n",
       "<style scoped>\n",
       "    .dataframe tbody tr th:only-of-type {\n",
       "        vertical-align: middle;\n",
       "    }\n",
       "\n",
       "    .dataframe tbody tr th {\n",
       "        vertical-align: top;\n",
       "    }\n",
       "\n",
       "    .dataframe thead th {\n",
       "        text-align: right;\n",
       "    }\n",
       "</style>\n",
       "<table border=\"1\" class=\"dataframe\">\n",
       "  <thead>\n",
       "    <tr style=\"text-align: right;\">\n",
       "      <th></th>\n",
       "      <th>Model</th>\n",
       "      <th>TrainAcuracy</th>\n",
       "      <th>TestAcuracy</th>\n",
       "      <th>TrainAcuracy_Tuning</th>\n",
       "      <th>TestAcuracy_Tuning</th>\n",
       "    </tr>\n",
       "  </thead>\n",
       "  <tbody>\n",
       "    <tr>\n",
       "      <th>0</th>\n",
       "      <td>Logistic Regression</td>\n",
       "      <td>0.603599</td>\n",
       "      <td>0.600872</td>\n",
       "      <td>0.607961</td>\n",
       "      <td>0.603053</td>\n",
       "    </tr>\n",
       "    <tr>\n",
       "      <th>1</th>\n",
       "      <td>SVC</td>\n",
       "      <td>0.736914</td>\n",
       "      <td>0.657034</td>\n",
       "      <td>0.726281</td>\n",
       "      <td>0.672846</td>\n",
       "    </tr>\n",
       "    <tr>\n",
       "      <th>2</th>\n",
       "      <td>Decision Tree Classifier</td>\n",
       "      <td>1.000000</td>\n",
       "      <td>0.631407</td>\n",
       "      <td>0.777808</td>\n",
       "      <td>0.682661</td>\n",
       "    </tr>\n",
       "    <tr>\n",
       "      <th>3</th>\n",
       "      <td>KNN</td>\n",
       "      <td>0.704471</td>\n",
       "      <td>0.538168</td>\n",
       "      <td>0.654853</td>\n",
       "      <td>0.564885</td>\n",
       "    </tr>\n",
       "    <tr>\n",
       "      <th>4</th>\n",
       "      <td>Naive Bayes</td>\n",
       "      <td>0.176936</td>\n",
       "      <td>0.188659</td>\n",
       "      <td>0.571156</td>\n",
       "      <td>0.561614</td>\n",
       "    </tr>\n",
       "    <tr>\n",
       "      <th>5</th>\n",
       "      <td>Random Forest</td>\n",
       "      <td>1.000000</td>\n",
       "      <td>0.726827</td>\n",
       "      <td>1.000000</td>\n",
       "      <td>0.728462</td>\n",
       "    </tr>\n",
       "    <tr>\n",
       "      <th>6</th>\n",
       "      <td>XG Boost</td>\n",
       "      <td>0.998909</td>\n",
       "      <td>0.723010</td>\n",
       "      <td>0.984188</td>\n",
       "      <td>0.730643</td>\n",
       "    </tr>\n",
       "  </tbody>\n",
       "</table>\n",
       "</div>"
      ],
      "text/plain": [
       "                      Model  TrainAcuracy  TestAcuracy  TrainAcuracy_Tuning  \\\n",
       "0       Logistic Regression      0.603599     0.600872             0.607961   \n",
       "1                       SVC      0.736914     0.657034             0.726281   \n",
       "2  Decision Tree Classifier      1.000000     0.631407             0.777808   \n",
       "3                       KNN      0.704471     0.538168             0.654853   \n",
       "4               Naive Bayes      0.176936     0.188659             0.571156   \n",
       "5             Random Forest      1.000000     0.726827             1.000000   \n",
       "6                  XG Boost      0.998909     0.723010             0.984188   \n",
       "\n",
       "   TestAcuracy_Tuning  \n",
       "0            0.603053  \n",
       "1            0.672846  \n",
       "2            0.682661  \n",
       "3            0.564885  \n",
       "4            0.561614  \n",
       "5            0.728462  \n",
       "6            0.730643  "
      ]
     },
     "execution_count": 56,
     "metadata": {},
     "output_type": "execute_result"
    }
   ],
   "source": [
    "accuracy_table"
   ]
  },
  {
   "cell_type": "code",
   "execution_count": null,
   "metadata": {
    "id": "6s_zHIEOgAUa"
   },
   "outputs": [],
   "source": []
  },
  {
   "cell_type": "code",
   "execution_count": null,
   "metadata": {
    "id": "YNLPp948iTx9"
   },
   "outputs": [],
   "source": []
  },
  {
   "cell_type": "markdown",
   "metadata": {
    "id": "rJOGKvIxj2hZ"
   },
   "source": [
    "### Cluster 2 Training:"
   ]
  },
  {
   "cell_type": "code",
   "execution_count": 57,
   "metadata": {
    "id": "Mgn3cFOvjswX"
   },
   "outputs": [],
   "source": [
    "cluster_data2=x[x['cluster']==1] #2nd cluster\n",
    "cluster_features2=cluster_data2.drop(['Labels','cluster'],axis=1)\n",
    "cluster_label2= cluster_data2['Labels']\n",
    "\n",
    "from sklearn.preprocessing import StandardScaler\n",
    "cluster_featuresscaled2 = StandardScaler().fit_transform(cluster_features2)\n",
    "from sklearn.model_selection import train_test_split\n",
    "x_train, x_test, y_train, y_test = train_test_split(cluster_featuresscaled2, cluster_label2, test_size=1 / 3, random_state=355)\n",
    "\n",
    "accuracy_table2=pd.DataFrame(columns=['Model','TrainAcuracy','TestAcuracy','TrainAcuracy_Tuning','TestAcuracy_Tuning'])"
   ]
  },
  {
   "cell_type": "markdown",
   "metadata": {
    "id": "bmGFYBJnoPBr"
   },
   "source": [
    "Logistic Regression"
   ]
  },
  {
   "cell_type": "code",
   "execution_count": 58,
   "metadata": {
    "colab": {
     "base_uri": "https://localhost:8080/"
    },
    "id": "m154YHvWj0WG",
    "outputId": "55eec92a-633d-4671-94db-61de7dcbbf75"
   },
   "outputs": [
    {
     "name": "stdout",
     "output_type": "stream",
     "text": [
      "training score: 0.6559080962800875\n",
      "testing score: 0.6469945355191257\n"
     ]
    },
    {
     "data": {
      "text/plain": [
       "'\\nfor i in  range(2,11):\\n  parameters = {\\'solver\\':[\\'newton-cg\\', \\'sag\\',\\'saga\\',\\'lbfgs\\'], \\'multi_class\\':[\\'auto\\'],\\'penalty\\':[\\'l1\\', \\'l2\\', \\'elasticnet\\'],\\'C\\':np.logspace(-3,3,7)}\\n  LogRegclf_Regu = LogisticRegression()\\n  LogRegclf_GSCV = GridSearchCV(LogRegclf_Regu, parameters, cv=i).fit(x_train,y_train)\\n  print(\"tuned hpyerparameters :(best parameters) \",LogRegclf_GSCV.best_params_)\\n  print(\"accuracy :\",LogRegclf_GSCV.best_score_)\\n'"
      ]
     },
     "execution_count": 58,
     "metadata": {},
     "output_type": "execute_result"
    }
   ],
   "source": [
    "LogRegclf2 = LogisticRegression(random_state=0).fit(x_train, y_train)\n",
    "print(f'training score: {LogRegclf2.score(x_train, y_train)}')\n",
    "print(f'testing score: {LogRegclf2.score(x_test, y_test)}')\n",
    "\n",
    "from sklearn.model_selection import GridSearchCV\n",
    "import numpy as np\n",
    "import warnings\n",
    "warnings.filterwarnings('ignore')\n",
    "'''\n",
    "for i in  range(2,11):\n",
    "  parameters = {'solver':['newton-cg', 'sag','saga','lbfgs'], 'multi_class':['auto'],'penalty':['l1', 'l2', 'elasticnet'],'C':np.logspace(-3,3,7)}\n",
    "  LogRegclf_Regu = LogisticRegression()\n",
    "  LogRegclf_GSCV = GridSearchCV(LogRegclf_Regu, parameters, cv=i).fit(x_train,y_train)\n",
    "  print(\"tuned hpyerparameters :(best parameters) \",LogRegclf_GSCV.best_params_)\n",
    "  print(\"accuracy :\",LogRegclf_GSCV.best_score_)\n",
    "'''"
   ]
  },
  {
   "cell_type": "code",
   "execution_count": 59,
   "metadata": {
    "colab": {
     "base_uri": "https://localhost:8080/"
    },
    "id": "xVXKQnEUlZKX",
    "outputId": "271d9c75-192a-42eb-8253-2b82c1e970b6"
   },
   "outputs": [
    {
     "name": "stdout",
     "output_type": "stream",
     "text": [
      "training score: 0.6564551422319475\n",
      "testing score: 0.6469945355191257\n"
     ]
    }
   ],
   "source": [
    "LogRegclf2_1 = LogisticRegression(C= 100.0, multi_class= 'auto', penalty= 'l1',solver= 'saga',random_state=0).fit(x_train, y_train)\n",
    "print(f'training score: {LogRegclf2_1.score(x_train, y_train)}')\n",
    "print(f'testing score: {LogRegclf2_1.score(x_test, y_test)}')"
   ]
  },
  {
   "cell_type": "code",
   "execution_count": 60,
   "metadata": {
    "id": "MYKkqWOvnHRA"
   },
   "outputs": [],
   "source": [
    "accuracy_table2.loc[0]=['Logistic Regression',LogRegclf2.score(x_train, y_train),LogRegclf2.score(x_test, y_test),LogRegclf2_1.score(x_train, y_train),LogRegclf2_1.score(x_test, y_test)]"
   ]
  },
  {
   "cell_type": "markdown",
   "metadata": {
    "id": "G4CS4h5IoWoy"
   },
   "source": [
    "SVC"
   ]
  },
  {
   "cell_type": "code",
   "execution_count": 61,
   "metadata": {
    "colab": {
     "base_uri": "https://localhost:8080/"
    },
    "id": "5gHR7QjLnY60",
    "outputId": "d26dacd7-7ddb-4b6c-e2ea-f4ba673716e5"
   },
   "outputs": [
    {
     "name": "stdout",
     "output_type": "stream",
     "text": [
      "training score: 0.7614879649890591\n",
      "testing score: 0.7049180327868853\n"
     ]
    },
    {
     "data": {
      "text/plain": [
       "'\\nparameters ={\\'C\\': [0.1, 1, 10, 100, 1000],\\'gamma\\': [1, 0.1, 0.01, 0.001, 0.0001],\\'kernel\\': [\\'rbf\\']}\\nSVC_Regu2 = SVC(random_state = 0)\\nfor i in  range(2,11):\\n  SVC_GSCV2 = GridSearchCV(SVC_Regu2, parameters, cv=i).fit(x_train,y_train)\\n  print(\"tuned hpyerparameters :(best parameters) \",SVC_GSCV2.best_params_)\\n  print(\"accuracy :\",SVC_GSCV2.best_score_)\\n  '"
      ]
     },
     "execution_count": 61,
     "metadata": {},
     "output_type": "execute_result"
    }
   ],
   "source": [
    "from sklearn.svm import SVC\n",
    "SVCclf2 = SVC(random_state = 0).fit(x_train, y_train)\n",
    "print(f'training score: {SVCclf2.score(x_train, y_train)}')\n",
    "print(f'testing score: {SVCclf2.score(x_test, y_test)}')\n",
    "\n",
    "'''\n",
    "parameters ={'C': [0.1, 1, 10, 100, 1000],'gamma': [1, 0.1, 0.01, 0.001, 0.0001],'kernel': ['rbf']}\n",
    "SVC_Regu2 = SVC(random_state = 0)\n",
    "for i in  range(2,11):\n",
    "  SVC_GSCV2 = GridSearchCV(SVC_Regu2, parameters, cv=i).fit(x_train,y_train)\n",
    "  print(\"tuned hpyerparameters :(best parameters) \",SVC_GSCV2.best_params_)\n",
    "  print(\"accuracy :\",SVC_GSCV2.best_score_)\n",
    "  '''"
   ]
  },
  {
   "cell_type": "code",
   "execution_count": 62,
   "metadata": {
    "colab": {
     "base_uri": "https://localhost:8080/"
    },
    "id": "XJGuvN_fn4g3",
    "outputId": "043292af-85bc-4c51-b46f-3c2789c75d2b"
   },
   "outputs": [
    {
     "name": "stdout",
     "output_type": "stream",
     "text": [
      "training score: 0.7658643326039387\n",
      "testing score: 0.7256830601092896\n"
     ]
    }
   ],
   "source": [
    "SVC2_1 = SVC(C= 100, gamma= 0.01, kernel='rbf', random_state=0).fit(x_train, y_train)\n",
    "print(f'training score: {SVC2_1.score(x_train, y_train)}')\n",
    "print(f'testing score: {SVC2_1.score(x_test, y_test)}')\n",
    "accuracy_table2.loc[1]=['SVC',SVCclf2.score(x_train, y_train),SVCclf2.score(x_test, y_test),\n",
    "                       SVC2_1.score(x_train, y_train),SVC2_1.score(x_test, y_test)]"
   ]
  },
  {
   "cell_type": "markdown",
   "metadata": {
    "id": "Fq1rkRCyqXff"
   },
   "source": [
    "3. Decision Tree Classifier"
   ]
  },
  {
   "cell_type": "code",
   "execution_count": 63,
   "metadata": {
    "colab": {
     "base_uri": "https://localhost:8080/"
    },
    "id": "owERCiA8qNSp",
    "outputId": "1330c534-f9fb-42eb-d99f-c7fdccda4701"
   },
   "outputs": [
    {
     "name": "stdout",
     "output_type": "stream",
     "text": [
      "training score: 1.0\n",
      "testing score: 0.6491803278688525\n"
     ]
    }
   ],
   "source": [
    "from sklearn.tree import DecisionTreeClassifier\n",
    "DTC2 = DecisionTreeClassifier(random_state=0).fit(x_train, y_train)\n",
    "print(f'training score: {DTC2.score(x_train, y_train)}')\n",
    "print(f'testing score: {DTC2.score(x_test, y_test)}')"
   ]
  },
  {
   "cell_type": "code",
   "execution_count": 64,
   "metadata": {
    "colab": {
     "base_uri": "https://localhost:8080/"
    },
    "id": "eZFraHR6qjE2",
    "outputId": "27250812-c94a-4929-c58f-2edef74be474"
   },
   "outputs": [
    {
     "data": {
      "text/plain": [
       "'\\nparameters ={\\'max_depth\\': [2, 3, 5, 10, 20],\\'min_samples_leaf\\': [5, 10, 20, 50, 100],\\'criterion\\': [\"gini\", \"entropy\"]}\\nfor i in  range(2,11):   \\n    DTC_Regu2 = DecisionTreeClassifier(random_state = 0)\\n    DTC_GSCV2 = GridSearchCV(DTC_Regu2, parameters, cv=i).fit(x_train,y_train)\\n    print(\"tuned hpyerparameters :(best parameters) \",DTC_GSCV2.best_params_)\\n    print(\"accuracy :\",DTC_GSCV2.best_score_)\\n'"
      ]
     },
     "execution_count": 64,
     "metadata": {},
     "output_type": "execute_result"
    }
   ],
   "source": [
    "'''\n",
    "parameters ={'max_depth': [2, 3, 5, 10, 20],'min_samples_leaf': [5, 10, 20, 50, 100],'criterion': [\"gini\", \"entropy\"]}\n",
    "for i in  range(2,11):   \n",
    "    DTC_Regu2 = DecisionTreeClassifier(random_state = 0)\n",
    "    DTC_GSCV2 = GridSearchCV(DTC_Regu2, parameters, cv=i).fit(x_train,y_train)\n",
    "    print(\"tuned hpyerparameters :(best parameters) \",DTC_GSCV2.best_params_)\n",
    "    print(\"accuracy :\",DTC_GSCV2.best_score_)\n",
    "'''"
   ]
  },
  {
   "cell_type": "code",
   "execution_count": 65,
   "metadata": {
    "colab": {
     "base_uri": "https://localhost:8080/"
    },
    "id": "9wgT6G0KrHHy",
    "outputId": "b3f075a4-9ece-467f-b69c-4f8e254e4be4"
   },
   "outputs": [
    {
     "name": "stdout",
     "output_type": "stream",
     "text": [
      "training score: 0.8681619256017505\n",
      "testing score: 0.6797814207650273\n"
     ]
    }
   ],
   "source": [
    "DTC2_1 = DecisionTreeClassifier(criterion= 'gini', max_depth= 20, min_samples_leaf= 5, random_state=0).fit(x_train, y_train)\n",
    "print(f'training score: {DTC2_1.score(x_train, y_train)}')\n",
    "print(f'testing score: {DTC2_1.score(x_test, y_test)}')\n",
    "\n",
    "accuracy_table2.loc[2]=['Decision Tree Classifier',DTC2.score(x_train, y_train),DTC2.score(x_test, y_test),\n",
    "                       DTC2_1.score(x_train, y_train),DTC2_1.score(x_test, y_test)]"
   ]
  },
  {
   "cell_type": "markdown",
   "metadata": {
    "id": "1BSv0ZKEr7Qt"
   },
   "source": [
    "4. KNN"
   ]
  },
  {
   "cell_type": "code",
   "execution_count": 66,
   "metadata": {
    "colab": {
     "base_uri": "https://localhost:8080/"
    },
    "id": "FLGN2J4grzmS",
    "outputId": "15577305-97b0-4379-9a34-d893fe553aeb"
   },
   "outputs": [
    {
     "name": "stdout",
     "output_type": "stream",
     "text": [
      "training score: 0.7363238512035011\n",
      "testing score: 0.5726775956284152\n"
     ]
    },
    {
     "data": {
      "text/plain": [
       "'\\nparameters ={ \\'algorithm\\' : [\\'ball_tree\\', \\'kd_tree\\', \\'brute\\'],\\n               \\'leaf_size\\' : [18,20,25,27,30,32,34],\\n               \\'n_neighbors\\' : [3,5,7,9,10,11,12,13]\\n              }\\nfor i in  range(2,11):   \\n    neigh_Regu = KNeighborsClassifier()\\n    neigh_GSCV = GridSearchCV(neigh_Regu, parameters, cv=i).fit(x_train,y_train)\\n    print(\"tuned hpyerparameters :(best parameters) \",neigh_GSCV.best_params_)\\n    print(\"accuracy :\",neigh_GSCV.best_score_)\\n    '"
      ]
     },
     "execution_count": 66,
     "metadata": {},
     "output_type": "execute_result"
    }
   ],
   "source": [
    "from sklearn.neighbors import KNeighborsClassifier\n",
    "neigh2 = KNeighborsClassifier().fit(x_train, y_train)\n",
    "print(f'training score: {neigh2.score(x_train, y_train)}')\n",
    "print(f'testing score: {neigh2.score(x_test, y_test)}')\n",
    "\n",
    "'''\n",
    "parameters ={ 'algorithm' : ['ball_tree', 'kd_tree', 'brute'],\n",
    "               'leaf_size' : [18,20,25,27,30,32,34],\n",
    "               'n_neighbors' : [3,5,7,9,10,11,12,13]\n",
    "              }\n",
    "for i in  range(2,11):   \n",
    "    neigh_Regu = KNeighborsClassifier()\n",
    "    neigh_GSCV = GridSearchCV(neigh_Regu, parameters, cv=i).fit(x_train,y_train)\n",
    "    print(\"tuned hpyerparameters :(best parameters) \",neigh_GSCV.best_params_)\n",
    "    print(\"accuracy :\",neigh_GSCV.best_score_)\n",
    "    '''"
   ]
  },
  {
   "cell_type": "code",
   "execution_count": 67,
   "metadata": {
    "colab": {
     "base_uri": "https://localhost:8080/"
    },
    "id": "s2kaNDNfsPXh",
    "outputId": "56b2318f-46cb-40e6-d99f-19fb98d3ebb3"
   },
   "outputs": [
    {
     "name": "stdout",
     "output_type": "stream",
     "text": [
      "training score: 0.7089715536105032\n",
      "testing score: 0.5868852459016394\n"
     ]
    }
   ],
   "source": [
    "neigh2_1 = KNeighborsClassifier(algorithm= 'ball_tree', leaf_size= 18, n_neighbors= 11).fit(x_train, y_train)\n",
    "print(f'training score: {neigh2_1.score(x_train, y_train)}')\n",
    "print(f'testing score: {neigh2_1.score(x_test, y_test)}')\n",
    "\n",
    "accuracy_table2.loc[3]=['KNN',neigh2.score(x_train, y_train),neigh2.score(x_test, y_test),\n",
    "                       neigh2_1.score(x_train, y_train),neigh2_1.score(x_test, y_test)]"
   ]
  },
  {
   "cell_type": "markdown",
   "metadata": {
    "id": "dqiSUb9kth74"
   },
   "source": [
    "5. Naive Bayes"
   ]
  },
  {
   "cell_type": "code",
   "execution_count": 68,
   "metadata": {
    "colab": {
     "base_uri": "https://localhost:8080/"
    },
    "id": "yx0f62nGtZDm",
    "outputId": "20cf23ed-6096-4089-fcab-2e9a0df60454"
   },
   "outputs": [
    {
     "name": "stdout",
     "output_type": "stream",
     "text": [
      "training score: 0.5940919037199125\n",
      "testing score: 0.6153005464480874\n"
     ]
    },
    {
     "data": {
      "text/plain": [
       "'\\ncv_method = RepeatedStratifiedKFold(n_splits=5, \\n                                    n_repeats=3, \\n                                    random_state=999)\\nparams_NB = {\\'var_smoothing\\': np.logspace(0,-9, num=100)}\\n\\nNB_Regu2 = GaussianNB()\\nNB_GSCV2 = GridSearchCV(estimator=NB_Regu2, param_grid=params_NB, cv=cv_method, scoring=\\'accuracy\\').fit(x_train,y_train)\\nprint(\"tuned hpyerparameters :(best parameters) \",NB_GSCV2.best_params_)\\nprint(\"accuracy :\",NB_GSCV2.best_score_)'"
      ]
     },
     "execution_count": 68,
     "metadata": {},
     "output_type": "execute_result"
    }
   ],
   "source": [
    "from sklearn.naive_bayes import GaussianNB\n",
    "NB2 = GaussianNB().fit(x_train, y_train)\n",
    "print(f'training score: {NB2.score(x_train, y_train)}')\n",
    "print(f'testing score: {NB2.score(x_test, y_test)}')\n",
    "\n",
    "from sklearn.model_selection import RepeatedStratifiedKFold\n",
    "'''\n",
    "cv_method = RepeatedStratifiedKFold(n_splits=5, \n",
    "                                    n_repeats=3, \n",
    "                                    random_state=999)\n",
    "params_NB = {'var_smoothing': np.logspace(0,-9, num=100)}\n",
    "\n",
    "NB_Regu2 = GaussianNB()\n",
    "NB_GSCV2 = GridSearchCV(estimator=NB_Regu2, param_grid=params_NB, cv=cv_method, scoring='accuracy').fit(x_train,y_train)\n",
    "print(\"tuned hpyerparameters :(best parameters) \",NB_GSCV2.best_params_)\n",
    "print(\"accuracy :\",NB_GSCV2.best_score_)'''"
   ]
  },
  {
   "cell_type": "code",
   "execution_count": 69,
   "metadata": {
    "colab": {
     "base_uri": "https://localhost:8080/"
    },
    "id": "zaw-wV9GQ7hz",
    "outputId": "5ac82319-5f0f-4ebb-ce4f-7e9def120ba7"
   },
   "outputs": [
    {
     "name": "stdout",
     "output_type": "stream",
     "text": [
      "training score: 0.5929978118161926\n",
      "testing score: 0.6153005464480874\n"
     ]
    }
   ],
   "source": [
    "NB2_1 = GaussianNB(var_smoothing=0.0006579332246575676).fit(x_train, y_train)\n",
    "print(f'training score: {NB2_1.score(x_train, y_train)}')\n",
    "print(f'testing score: {NB2_1.score(x_test, y_test)}')\n",
    "accuracy_table2.loc[4]=['Naive Bayes',NB2.score(x_train, y_train),NB2.score(x_test, y_test),\n",
    "                       NB2_1.score(x_train, y_train),NB2_1.score(x_test, y_test)]"
   ]
  },
  {
   "cell_type": "markdown",
   "metadata": {
    "id": "39lvIU3uWK2o"
   },
   "source": [
    "6. Random Forest"
   ]
  },
  {
   "cell_type": "code",
   "execution_count": 70,
   "metadata": {
    "colab": {
     "base_uri": "https://localhost:8080/"
    },
    "id": "lKRviKtFVA_Y",
    "outputId": "8d976ee0-a057-47b6-8c42-bdcde7cfe057"
   },
   "outputs": [
    {
     "name": "stdout",
     "output_type": "stream",
     "text": [
      "training score: 1.0\n",
      "testing score: 0.7202185792349727\n"
     ]
    },
    {
     "data": {
      "text/plain": [
       "'\\nparameters ={ \\'n_estimators\\' : [115,130,145],\\n              #\\'criterion\\': [\\'gini\\', \\'entropy\\'],\\n              \\'max_depth\\' : [100, 110,120,130],\\n              #\\'min_samples_leaf\\' : range(2,5,1),\\n              #\\'min_samples_split\\': range(2,10,2),\\n              #\\'max_features\\' : [\\'auto\\',\\'log2\\']\\n              }\\nfor i in  range(2,11):\\n  RF_GSCV = GridSearchCV(RandomForestClassifier(), parameters, cv=i).fit(x_train,y_train)\\n  print(\"tuned hpyerparameters :(best parameters) \",RF_GSCV.best_params_)\\n  print(\"accuracy :\",RF_GSCV.best_score_)\\n  '"
      ]
     },
     "execution_count": 70,
     "metadata": {},
     "output_type": "execute_result"
    }
   ],
   "source": [
    "from sklearn.ensemble import RandomForestClassifier\n",
    "rand_clf2 = RandomForestClassifier(random_state=6).fit(x_train,y_train)\n",
    "print(f'training score: {rand_clf2.score(x_train, y_train)}')\n",
    "print(f'testing score: {rand_clf2.score(x_test, y_test)}')\n",
    "'''\n",
    "parameters ={ 'n_estimators' : [115,130,145],\n",
    "              #'criterion': ['gini', 'entropy'],\n",
    "              'max_depth' : [100, 110,120,130],\n",
    "              #'min_samples_leaf' : range(2,5,1),\n",
    "              #'min_samples_split': range(2,10,2),\n",
    "              #'max_features' : ['auto','log2']\n",
    "              }\n",
    "for i in  range(2,11):\n",
    "  RF_GSCV = GridSearchCV(RandomForestClassifier(), parameters, cv=i).fit(x_train,y_train)\n",
    "  print(\"tuned hpyerparameters :(best parameters) \",RF_GSCV.best_params_)\n",
    "  print(\"accuracy :\",RF_GSCV.best_score_)\n",
    "  '''"
   ]
  },
  {
   "cell_type": "code",
   "execution_count": 71,
   "metadata": {
    "colab": {
     "base_uri": "https://localhost:8080/"
    },
    "id": "K1sauFpSWo0K",
    "outputId": "469da4ea-4fc9-4f56-fd5e-29275914c770"
   },
   "outputs": [
    {
     "name": "stdout",
     "output_type": "stream",
     "text": [
      "training score: 1.0\n",
      "testing score: 0.7180327868852459\n"
     ]
    }
   ],
   "source": [
    "rand_clf2_1 = RandomForestClassifier(random_state=6,max_depth= 100, n_estimators= 115).fit(x_train,y_train)\n",
    "print(f'training score: {rand_clf2_1.score(x_train, y_train)}')\n",
    "print(f'testing score: {rand_clf2_1.score(x_test, y_test)}')\n",
    "accuracy_table2.loc[5]=['Random Forest',rand_clf2.score(x_train, y_train),rand_clf2.score(x_test, y_test),\n",
    "                       rand_clf2_1.score(x_train, y_train),rand_clf2_1.score(x_test, y_test)]"
   ]
  },
  {
   "cell_type": "markdown",
   "metadata": {
    "id": "fUvYrZFDZKAn"
   },
   "source": [
    "7. XG Boost"
   ]
  },
  {
   "cell_type": "code",
   "execution_count": 72,
   "metadata": {
    "colab": {
     "base_uri": "https://localhost:8080/"
    },
    "id": "PAo8vZLBY9vn",
    "outputId": "62312253-3ad5-43c5-f678-67d676406ce1"
   },
   "outputs": [
    {
     "name": "stdout",
     "output_type": "stream",
     "text": [
      "training score: 1.0\n",
      "testing score: 0.7355191256830601\n"
     ]
    },
    {
     "data": {
      "text/plain": [
       "'\\nparameters ={ \\'n_estimators\\' : range(90,130,10),\\n              #\\'criterion\\': [\\'gini\\', \\'entropy\\'],\\n              \\'max_depth\\' : range(2,11,1),\\n              #\\'min_samples_leaf\\' : range(2,5,1),\\n              #\\'min_samples_split\\': range(2,10,2),\\n              #\\'max_features\\' : [\\'auto\\',\\'log2\\']\\n              }\\n\\nfor i in  range(2,11):\\n  XG_GSCV = GridSearchCV(XGBClassifier(), parameters, cv=i).fit(x_train,y_train)\\n  print(\"tuned hpyerparameters :(best parameters) \",XG_GSCV.best_params_)\\n  print(\"accuracy :\",XG_GSCV.best_score_)\\n  '"
      ]
     },
     "execution_count": 72,
     "metadata": {},
     "output_type": "execute_result"
    }
   ],
   "source": [
    "from xgboost import XGBClassifier\n",
    "XG2 = XGBClassifier(random_state=6).fit(x_train,y_train)\n",
    "print(f'training score: {XG2.score(x_train, y_train)}')\n",
    "print(f'testing score: {XG2.score(x_test, y_test)}')\n",
    "'''\n",
    "parameters ={ 'n_estimators' : range(90,130,10),\n",
    "              #'criterion': ['gini', 'entropy'],\n",
    "              'max_depth' : range(2,11,1),\n",
    "              #'min_samples_leaf' : range(2,5,1),\n",
    "              #'min_samples_split': range(2,10,2),\n",
    "              #'max_features' : ['auto','log2']\n",
    "              }\n",
    "\n",
    "for i in  range(2,11):\n",
    "  XG_GSCV = GridSearchCV(XGBClassifier(), parameters, cv=i).fit(x_train,y_train)\n",
    "  print(\"tuned hpyerparameters :(best parameters) \",XG_GSCV.best_params_)\n",
    "  print(\"accuracy :\",XG_GSCV.best_score_)\n",
    "  '''"
   ]
  },
  {
   "cell_type": "code",
   "execution_count": 73,
   "metadata": {
    "colab": {
     "base_uri": "https://localhost:8080/"
    },
    "id": "z8DYAUg-ZWkN",
    "outputId": "71c0a622-6c73-41c4-abeb-c41f53d5f10c"
   },
   "outputs": [
    {
     "name": "stdout",
     "output_type": "stream",
     "text": [
      "training score: 1.0\n",
      "testing score: 0.726775956284153\n"
     ]
    }
   ],
   "source": [
    "XG2_1 = XGBClassifier(max_depth = 5, n_estimators = 100,random_state=6).fit(x_train,y_train)\n",
    "print(f'training score: {XG2_1.score(x_train, y_train)}')\n",
    "print(f'testing score: {XG2_1.score(x_test, y_test)}')\n",
    "\n",
    "accuracy_table2.loc[6]=['XG Boost',XG2.score(x_train, y_train),XG2.score(x_test, y_test),\n",
    "                       XG2_1.score(x_train, y_train),XG2_1.score(x_test, y_test)]"
   ]
  },
  {
   "cell_type": "markdown",
   "metadata": {
    "id": "e-PM0KyeMu60"
   },
   "source": [
    "### Cluster 3 Training:"
   ]
  },
  {
   "cell_type": "code",
   "execution_count": 74,
   "metadata": {
    "id": "2Iyx7baYMwQ3"
   },
   "outputs": [],
   "source": [
    "cluster_data3=x[x['cluster']==2] #3rd cluster\n",
    "cluster_features3=cluster_data3.drop(['Labels','cluster'],axis=1)\n",
    "cluster_label3= cluster_data3['Labels']\n",
    "\n",
    "from sklearn.preprocessing import StandardScaler\n",
    "cluster_featuresscaled3 = StandardScaler().fit_transform(cluster_features3)\n",
    "from sklearn.model_selection import train_test_split\n",
    "x_train, x_test, y_train, y_test = train_test_split(cluster_featuresscaled3, cluster_label3, test_size=1 / 3, random_state=355)\n",
    "\n",
    "accuracy_table3=pd.DataFrame(columns=['Model','TrainAcuracy','TestAcuracy','TrainAcuracy_Tuning','TestAcuracy_Tuning'])"
   ]
  },
  {
   "cell_type": "code",
   "execution_count": 75,
   "metadata": {
    "colab": {
     "base_uri": "https://localhost:8080/",
     "height": 122
    },
    "id": "RN83T71LNE9J",
    "outputId": "7f8f45ae-83bb-467b-c5a2-dc13aae201b4"
   },
   "outputs": [
    {
     "name": "stdout",
     "output_type": "stream",
     "text": [
      "training score: 0.6322843822843823\n",
      "testing score: 0.6614219114219114\n"
     ]
    },
    {
     "data": {
      "text/plain": [
       "'\\nfrom sklearn.model_selection import GridSearchCV\\nimport numpy as np\\nimport warnings\\nwarnings.filterwarnings(\\'ignore\\')\\n\\nfor i in  range(2,11):\\n  parameters = {\\'solver\\':[\\'newton-cg\\', \\'sag\\',\\'saga\\',\\'lbfgs\\'], \\'multi_class\\':[\\'auto\\'],\\'penalty\\':[\\'l1\\', \\'l2\\', \\'elasticnet\\'],\\'C\\':np.logspace(-3,3,7)}\\n  LogRegclf_Regu = LogisticRegression()\\n  LogRegclf_GSCV = GridSearchCV(LogRegclf_Regu, parameters, cv=i).fit(x_train,y_train)\\n  print(\"tuned hpyerparameters :(best parameters) \",LogRegclf_GSCV.best_params_)\\n  print(\"accuracy :\",LogRegclf_GSCV.best_score_)\\n'"
      ]
     },
     "execution_count": 75,
     "metadata": {},
     "output_type": "execute_result"
    }
   ],
   "source": [
    "LogRegclf3 = LogisticRegression(random_state=0).fit(x_train, y_train)\n",
    "print(f'training score: {LogRegclf3.score(x_train, y_train)}')\n",
    "print(f'testing score: {LogRegclf3.score(x_test, y_test)}')\n",
    "'''\n",
    "from sklearn.model_selection import GridSearchCV\n",
    "import numpy as np\n",
    "import warnings\n",
    "warnings.filterwarnings('ignore')\n",
    "\n",
    "for i in  range(2,11):\n",
    "  parameters = {'solver':['newton-cg', 'sag','saga','lbfgs'], 'multi_class':['auto'],'penalty':['l1', 'l2', 'elasticnet'],'C':np.logspace(-3,3,7)}\n",
    "  LogRegclf_Regu = LogisticRegression()\n",
    "  LogRegclf_GSCV = GridSearchCV(LogRegclf_Regu, parameters, cv=i).fit(x_train,y_train)\n",
    "  print(\"tuned hpyerparameters :(best parameters) \",LogRegclf_GSCV.best_params_)\n",
    "  print(\"accuracy :\",LogRegclf_GSCV.best_score_)\n",
    "'''"
   ]
  },
  {
   "cell_type": "code",
   "execution_count": 76,
   "metadata": {
    "colab": {
     "base_uri": "https://localhost:8080/"
    },
    "id": "KHYedTuBNWcz",
    "outputId": "b7779de5-0023-49af-f12e-055294a06be8"
   },
   "outputs": [
    {
     "name": "stdout",
     "output_type": "stream",
     "text": [
      "training score: 0.6331585081585082\n",
      "testing score: 0.6614219114219114\n"
     ]
    }
   ],
   "source": [
    "LogRegclf3_1 = LogisticRegression(C= 1.0, multi_class= 'auto', penalty= 'l1',solver= 'saga',random_state=0).fit(x_train, y_train)\n",
    "print(f'training score: {LogRegclf3_1.score(x_train, y_train)}')\n",
    "print(f'testing score: {LogRegclf3_1.score(x_test, y_test)}')\n",
    "accuracy_table3.loc[0]=['Logistic Regression',LogRegclf3.score(x_train, y_train),LogRegclf3.score(x_test, y_test),LogRegclf3_1.score(x_train, y_train),LogRegclf3_1.score(x_test, y_test)]"
   ]
  },
  {
   "cell_type": "code",
   "execution_count": 77,
   "metadata": {
    "colab": {
     "base_uri": "https://localhost:8080/",
     "height": 105
    },
    "id": "xBSf8fqdN1HU",
    "outputId": "e8dffad4-0d1a-4ea9-8582-646ffd7246a9"
   },
   "outputs": [
    {
     "name": "stdout",
     "output_type": "stream",
     "text": [
      "training score: 0.7348484848484849\n",
      "testing score: 0.7051282051282052\n"
     ]
    },
    {
     "data": {
      "text/plain": [
       "'\\nparameters ={\\'C\\': [0.1, 1, 10, 100, 1000],\\'gamma\\': [1, 0.1, 0.01, 0.001, 0.0001],\\'kernel\\': [\\'rbf\\']}\\nSVC_Regu3 = SVC(random_state = 0)\\nfor i in  range(2,11):\\n  SVC_GSCV2 = GridSearchCV(SVC_Regu3, parameters, cv=i).fit(x_train,y_train)\\n  print(\"tuned hpyerparameters :(best parameters) \",SVC_GSCV2.best_params_)\\n  print(\"accuracy :\",SVC_GSCV2.best_score_)\\n'"
      ]
     },
     "execution_count": 77,
     "metadata": {},
     "output_type": "execute_result"
    }
   ],
   "source": [
    "from sklearn.svm import SVC\n",
    "SVCclf3 = SVC(random_state = 0).fit(x_train, y_train)\n",
    "print(f'training score: {SVCclf3.score(x_train, y_train)}')\n",
    "print(f'testing score: {SVCclf3.score(x_test, y_test)}')\n",
    "\n",
    "'''\n",
    "parameters ={'C': [0.1, 1, 10, 100, 1000],'gamma': [1, 0.1, 0.01, 0.001, 0.0001],'kernel': ['rbf']}\n",
    "SVC_Regu3 = SVC(random_state = 0)\n",
    "for i in  range(2,11):\n",
    "  SVC_GSCV2 = GridSearchCV(SVC_Regu3, parameters, cv=i).fit(x_train,y_train)\n",
    "  print(\"tuned hpyerparameters :(best parameters) \",SVC_GSCV2.best_params_)\n",
    "  print(\"accuracy :\",SVC_GSCV2.best_score_)\n",
    "'''"
   ]
  },
  {
   "cell_type": "code",
   "execution_count": 78,
   "metadata": {
    "colab": {
     "base_uri": "https://localhost:8080/"
    },
    "id": "L3Hq_m5sOFRO",
    "outputId": "fcfd5e40-5fff-49ac-ca9d-bffabd97da51"
   },
   "outputs": [
    {
     "name": "stdout",
     "output_type": "stream",
     "text": [
      "training score: 0.7817599067599068\n",
      "testing score: 0.7319347319347319\n"
     ]
    }
   ],
   "source": [
    "SVC3_1 = SVC(C= 1000, gamma= 0.01, kernel='rbf', random_state=0).fit(x_train, y_train)\n",
    "print(f'training score: {SVC3_1.score(x_train, y_train)}')\n",
    "print(f'testing score: {SVC3_1.score(x_test, y_test)}')\n",
    "accuracy_table3.loc[1]=['SVC',SVCclf3.score(x_train, y_train),SVCclf3.score(x_test, y_test),\n",
    "                       SVC3_1.score(x_train, y_train),SVC3_1.score(x_test, y_test)]"
   ]
  },
  {
   "cell_type": "code",
   "execution_count": 79,
   "metadata": {
    "colab": {
     "base_uri": "https://localhost:8080/",
     "height": 105
    },
    "id": "K50fIY2eStFQ",
    "outputId": "7648a3b9-7781-4403-ec44-bc06632cc99b"
   },
   "outputs": [
    {
     "name": "stdout",
     "output_type": "stream",
     "text": [
      "training score: 1.0\n",
      "testing score: 0.6287878787878788\n"
     ]
    },
    {
     "data": {
      "text/plain": [
       "'\\nparameters ={\\'max_depth\\': [2, 3, 5, 10, 20],\\'min_samples_leaf\\': [5, 10, 20, 50, 100],\\'criterion\\': [\"gini\", \"entropy\"]}\\nfor i in  range(2,11):   \\n    DTC_Regu2 = DecisionTreeClassifier(random_state = 0)\\n    DTC_GSCV2 = GridSearchCV(DTC_Regu2, parameters, cv=i).fit(x_train,y_train)\\n    print(\"tuned hpyerparameters :(best parameters) \",DTC_GSCV2.best_params_)\\n    print(\"accuracy :\",DTC_GSCV2.best_score_)\\n'"
      ]
     },
     "execution_count": 79,
     "metadata": {},
     "output_type": "execute_result"
    }
   ],
   "source": [
    "from sklearn.tree import DecisionTreeClassifier\n",
    "DTC3 = DecisionTreeClassifier(random_state=0).fit(x_train, y_train)\n",
    "print(f'training score: {DTC3.score(x_train, y_train)}')\n",
    "print(f'testing score: {DTC3.score(x_test, y_test)}')\n",
    "'''\n",
    "parameters ={'max_depth': [2, 3, 5, 10, 20],'min_samples_leaf': [5, 10, 20, 50, 100],'criterion': [\"gini\", \"entropy\"]}\n",
    "for i in  range(2,11):   \n",
    "    DTC_Regu2 = DecisionTreeClassifier(random_state = 0)\n",
    "    DTC_GSCV2 = GridSearchCV(DTC_Regu2, parameters, cv=i).fit(x_train,y_train)\n",
    "    print(\"tuned hpyerparameters :(best parameters) \",DTC_GSCV2.best_params_)\n",
    "    print(\"accuracy :\",DTC_GSCV2.best_score_)\n",
    "'''"
   ]
  },
  {
   "cell_type": "code",
   "execution_count": 80,
   "metadata": {
    "colab": {
     "base_uri": "https://localhost:8080/"
    },
    "id": "CMfJPwRaS7UR",
    "outputId": "1ba7e893-6830-4f79-bcd0-87e4393bc086"
   },
   "outputs": [
    {
     "name": "stdout",
     "output_type": "stream",
     "text": [
      "training score: 0.7998251748251748\n",
      "testing score: 0.6684149184149184\n"
     ]
    }
   ],
   "source": [
    "DTC3_1 = DecisionTreeClassifier(criterion= 'gini', max_depth= 10, min_samples_leaf= 5, random_state=0).fit(x_train, y_train)\n",
    "print(f'training score: {DTC3_1.score(x_train, y_train)}')\n",
    "print(f'testing score: {DTC3_1.score(x_test, y_test)}')\n",
    "\n",
    "accuracy_table3.loc[2]=['Decision Tree Classifier',DTC3.score(x_train, y_train),DTC3.score(x_test, y_test),\n",
    "                       DTC3_1.score(x_train, y_train),DTC3_1.score(x_test, y_test)]"
   ]
  },
  {
   "cell_type": "code",
   "execution_count": 81,
   "metadata": {
    "colab": {
     "base_uri": "https://localhost:8080/",
     "height": 105
    },
    "id": "YvLyRCPDUkoy",
    "outputId": "ad6de1e3-c00e-472c-926f-9b941c13745d"
   },
   "outputs": [
    {
     "name": "stdout",
     "output_type": "stream",
     "text": [
      "training score: 0.7103729603729604\n",
      "testing score: 0.6054778554778555\n"
     ]
    },
    {
     "data": {
      "text/plain": [
       "'\\n\\nparameters ={ \\'algorithm\\' : [\\'ball_tree\\', \\'kd_tree\\', \\'brute\\'],\\n               \\'leaf_size\\' : [18,20,25,27,30,32,34],\\n               \\'n_neighbors\\' : [3,5,7,9,10,11,12,13]\\n              }\\nfor i in  range(2,11):   \\n    neigh_Regu = KNeighborsClassifier()\\n    neigh_GSCV = GridSearchCV(neigh_Regu, parameters, cv=i).fit(x_train,y_train)\\n    print(\"tuned hpyerparameters :(best parameters) \",neigh_GSCV.best_params_)\\n    print(\"accuracy :\",neigh_GSCV.best_score_)\\n    '"
      ]
     },
     "execution_count": 81,
     "metadata": {},
     "output_type": "execute_result"
    }
   ],
   "source": [
    "from sklearn.neighbors import KNeighborsClassifier\n",
    "neigh3 = KNeighborsClassifier().fit(x_train, y_train)\n",
    "print(f'training score: {neigh3.score(x_train, y_train)}')\n",
    "print(f'testing score: {neigh3.score(x_test, y_test)}')\n",
    "'''\n",
    "\n",
    "parameters ={ 'algorithm' : ['ball_tree', 'kd_tree', 'brute'],\n",
    "               'leaf_size' : [18,20,25,27,30,32,34],\n",
    "               'n_neighbors' : [3,5,7,9,10,11,12,13]\n",
    "              }\n",
    "for i in  range(2,11):   \n",
    "    neigh_Regu = KNeighborsClassifier()\n",
    "    neigh_GSCV = GridSearchCV(neigh_Regu, parameters, cv=i).fit(x_train,y_train)\n",
    "    print(\"tuned hpyerparameters :(best parameters) \",neigh_GSCV.best_params_)\n",
    "    print(\"accuracy :\",neigh_GSCV.best_score_)\n",
    "    '''"
   ]
  },
  {
   "cell_type": "code",
   "execution_count": 82,
   "metadata": {
    "colab": {
     "base_uri": "https://localhost:8080/"
    },
    "id": "DM_5vzZpUkoz",
    "outputId": "69ea2e68-89c7-4fd6-ab8e-92012efdb952"
   },
   "outputs": [
    {
     "name": "stdout",
     "output_type": "stream",
     "text": [
      "training score: 0.664918414918415\n",
      "testing score: 0.622960372960373\n"
     ]
    }
   ],
   "source": [
    "neigh3_1 = KNeighborsClassifier(algorithm= 'ball_tree', leaf_size= 18, n_neighbors= 12).fit(x_train, y_train)\n",
    "print(f'training score: {neigh3_1.score(x_train, y_train)}')\n",
    "print(f'testing score: {neigh3_1.score(x_test, y_test)}')\n",
    "\n",
    "accuracy_table3.loc[3]=['KNN',neigh3.score(x_train, y_train),neigh3.score(x_test, y_test),\n",
    "                       neigh3_1.score(x_train, y_train),neigh3_1.score(x_test, y_test)]"
   ]
  },
  {
   "cell_type": "code",
   "execution_count": 83,
   "metadata": {
    "colab": {
     "base_uri": "https://localhost:8080/",
     "height": 105
    },
    "id": "OQXmESubVAUM",
    "outputId": "309edca0-5048-47ac-e04e-6aa580e4691a"
   },
   "outputs": [
    {
     "name": "stdout",
     "output_type": "stream",
     "text": [
      "training score: 0.5119463869463869\n",
      "testing score: 0.5396270396270396\n"
     ]
    },
    {
     "data": {
      "text/plain": [
       "'\\nfrom sklearn.model_selection import RepeatedStratifiedKFold\\n\\ncv_method = RepeatedStratifiedKFold(n_splits=5, \\n                                    n_repeats=3, \\n                                    random_state=999)\\nparams_NB = {\\'var_smoothing\\': np.logspace(0,-9, num=100)}\\n\\nNB_Regu3 = GaussianNB()\\nNB_GSCV3 = GridSearchCV(estimator=NB_Regu3, param_grid=params_NB, cv=cv_method, scoring=\\'accuracy\\').fit(x_train,y_train)\\nprint(\"tuned hpyerparameters :(best parameters) \",NB_GSCV3.best_params_)\\nprint(\"accuracy :\",NB_GSCV3.best_score_)\\n'"
      ]
     },
     "execution_count": 83,
     "metadata": {},
     "output_type": "execute_result"
    }
   ],
   "source": [
    "from sklearn.naive_bayes import GaussianNB\n",
    "NB3 = GaussianNB().fit(x_train, y_train)\n",
    "print(f'training score: {NB3.score(x_train, y_train)}')\n",
    "print(f'testing score: {NB3.score(x_test, y_test)}')\n",
    "'''\n",
    "from sklearn.model_selection import RepeatedStratifiedKFold\n",
    "\n",
    "cv_method = RepeatedStratifiedKFold(n_splits=5, \n",
    "                                    n_repeats=3, \n",
    "                                    random_state=999)\n",
    "params_NB = {'var_smoothing': np.logspace(0,-9, num=100)}\n",
    "\n",
    "NB_Regu3 = GaussianNB()\n",
    "NB_GSCV3 = GridSearchCV(estimator=NB_Regu3, param_grid=params_NB, cv=cv_method, scoring='accuracy').fit(x_train,y_train)\n",
    "print(\"tuned hpyerparameters :(best parameters) \",NB_GSCV3.best_params_)\n",
    "print(\"accuracy :\",NB_GSCV3.best_score_)\n",
    "'''"
   ]
  },
  {
   "cell_type": "code",
   "execution_count": 84,
   "metadata": {
    "colab": {
     "base_uri": "https://localhost:8080/"
    },
    "id": "bYa0dwL-VAUN",
    "outputId": "f6ffabed-a8a7-4d35-bea3-d9afdb1088ce"
   },
   "outputs": [
    {
     "name": "stdout",
     "output_type": "stream",
     "text": [
      "training score: 0.5110722610722611\n",
      "testing score: 0.539044289044289\n"
     ]
    }
   ],
   "source": [
    "NB3_1 = GaussianNB(var_smoothing=0.003511191734215131).fit(x_train, y_train)\n",
    "print(f'training score: {NB3_1.score(x_train, y_train)}')\n",
    "print(f'testing score: {NB3_1.score(x_test, y_test)}')\n",
    "accuracy_table3.loc[4]=['Naive Bayes',NB3.score(x_train, y_train),NB3.score(x_test, y_test),\n",
    "                       NB3_1.score(x_train, y_train),NB3_1.score(x_test, y_test)]"
   ]
  },
  {
   "cell_type": "code",
   "execution_count": 85,
   "metadata": {
    "colab": {
     "base_uri": "https://localhost:8080/",
     "height": 122
    },
    "id": "jGRordbsWzhl",
    "outputId": "40eab59e-8b6e-4fbf-8c5d-e4a1b54a10c9"
   },
   "outputs": [
    {
     "name": "stdout",
     "output_type": "stream",
     "text": [
      "training score: 1.0\n",
      "testing score: 0.7365967365967366\n"
     ]
    },
    {
     "data": {
      "text/plain": [
       "'\\nparameters ={ \\'n_estimators\\' : [115,130,145],\\n              #\\'criterion\\': [\\'gini\\', \\'entropy\\'],\\n              \\'max_depth\\' : [100, 110,120,130],\\n              #\\'min_samples_leaf\\' : range(2,5,1),\\n              #\\'min_samples_split\\': range(2,10,2),\\n              #\\'max_features\\' : [\\'auto\\',\\'log2\\']\\n              }\\nfor i in  range(2,11):\\n  RF_GSCV = GridSearchCV(RandomForestClassifier(), parameters, cv=i).fit(x_train,y_train)\\n  print(\"tuned hpyerparameters :(best parameters) \",RF_GSCV.best_params_)\\n  print(\"accuracy :\",RF_GSCV.best_score_)\\n '"
      ]
     },
     "execution_count": 85,
     "metadata": {},
     "output_type": "execute_result"
    }
   ],
   "source": [
    "from sklearn.ensemble import RandomForestClassifier\n",
    "rand_clf3 = RandomForestClassifier(random_state=6).fit(x_train,y_train)\n",
    "print(f'training score: {rand_clf3.score(x_train, y_train)}')\n",
    "print(f'testing score: {rand_clf3.score(x_test, y_test)}')\n",
    "'''\n",
    "parameters ={ 'n_estimators' : [115,130,145],\n",
    "              #'criterion': ['gini', 'entropy'],\n",
    "              'max_depth' : [100, 110,120,130],\n",
    "              #'min_samples_leaf' : range(2,5,1),\n",
    "              #'min_samples_split': range(2,10,2),\n",
    "              #'max_features' : ['auto','log2']\n",
    "              }\n",
    "for i in  range(2,11):\n",
    "  RF_GSCV = GridSearchCV(RandomForestClassifier(), parameters, cv=i).fit(x_train,y_train)\n",
    "  print(\"tuned hpyerparameters :(best parameters) \",RF_GSCV.best_params_)\n",
    "  print(\"accuracy :\",RF_GSCV.best_score_)\n",
    " ''' "
   ]
  },
  {
   "cell_type": "code",
   "execution_count": 86,
   "metadata": {
    "colab": {
     "base_uri": "https://localhost:8080/"
    },
    "id": "-R1Ye9KHWzhn",
    "outputId": "7c0e82b6-0a50-43a0-c4c8-509cded03ea4"
   },
   "outputs": [
    {
     "name": "stdout",
     "output_type": "stream",
     "text": [
      "training score: 1.0\n",
      "testing score: 0.7424242424242424\n"
     ]
    }
   ],
   "source": [
    "rand_clf3_1 = RandomForestClassifier(random_state=6,max_depth= 120, n_estimators= 145).fit(x_train,y_train)\n",
    "print(f'training score: {rand_clf3_1.score(x_train, y_train)}')\n",
    "print(f'testing score: {rand_clf3_1.score(x_test, y_test)}')\n",
    "accuracy_table3.loc[5]=['Random Forest',rand_clf3.score(x_train, y_train),rand_clf3.score(x_test, y_test),\n",
    "                       rand_clf3_1.score(x_train, y_train),rand_clf3_1.score(x_test, y_test)]"
   ]
  },
  {
   "cell_type": "code",
   "execution_count": 87,
   "metadata": {
    "colab": {
     "base_uri": "https://localhost:8080/",
     "height": 122
    },
    "id": "Qpjhn_wHXPwK",
    "outputId": "12bab258-065c-44a6-fdde-a12d1a63227f"
   },
   "outputs": [
    {
     "name": "stdout",
     "output_type": "stream",
     "text": [
      "training score: 0.9994172494172494\n",
      "testing score: 0.736013986013986\n"
     ]
    },
    {
     "data": {
      "text/plain": [
       "'\\nparameters ={ \\'n_estimators\\' : range(90,130,10),\\n              #\\'criterion\\': [\\'gini\\', \\'entropy\\'],\\n              \\'max_depth\\' : range(2,11,1),\\n              #\\'min_samples_leaf\\' : range(2,5,1),\\n              #\\'min_samples_split\\': range(2,10,2),\\n              #\\'max_features\\' : [\\'auto\\',\\'log2\\']\\n              }\\n\\nfor i in  range(2,11):\\n  XG_GSCV = GridSearchCV(XGBClassifier(), parameters, cv=i).fit(x_train,y_train)\\n  print(\"tuned hpyerparameters :(best parameters) \",XG_GSCV.best_params_)\\n  print(\"accuracy :\",XG_GSCV.best_score_)\\n'"
      ]
     },
     "execution_count": 87,
     "metadata": {},
     "output_type": "execute_result"
    }
   ],
   "source": [
    "from xgboost import XGBClassifier\n",
    "XG3 = XGBClassifier(random_state=6).fit(x_train,y_train)\n",
    "print(f'training score: {XG3.score(x_train, y_train)}')\n",
    "print(f'testing score: {XG3.score(x_test, y_test)}')\n",
    "'''\n",
    "parameters ={ 'n_estimators' : range(90,130,10),\n",
    "              #'criterion': ['gini', 'entropy'],\n",
    "              'max_depth' : range(2,11,1),\n",
    "              #'min_samples_leaf' : range(2,5,1),\n",
    "              #'min_samples_split': range(2,10,2),\n",
    "              #'max_features' : ['auto','log2']\n",
    "              }\n",
    "\n",
    "for i in  range(2,11):\n",
    "  XG_GSCV = GridSearchCV(XGBClassifier(), parameters, cv=i).fit(x_train,y_train)\n",
    "  print(\"tuned hpyerparameters :(best parameters) \",XG_GSCV.best_params_)\n",
    "  print(\"accuracy :\",XG_GSCV.best_score_)\n",
    "'''"
   ]
  },
  {
   "cell_type": "code",
   "execution_count": 88,
   "metadata": {
    "colab": {
     "base_uri": "https://localhost:8080/"
    },
    "id": "KJZqOZT0XPwL",
    "outputId": "77974368-c155-453a-e057-03a38635d858"
   },
   "outputs": [
    {
     "name": "stdout",
     "output_type": "stream",
     "text": [
      "training score: 1.0\n",
      "testing score: 0.7395104895104895\n"
     ]
    }
   ],
   "source": [
    "XG3_1 = XGBClassifier(max_depth = 6, n_estimators = 120,random_state=6).fit(x_train,y_train)\n",
    "print(f'training score: {XG3_1.score(x_train, y_train)}')\n",
    "print(f'testing score: {XG3_1.score(x_test, y_test)}')\n",
    "\n",
    "accuracy_table3.loc[6]=['XG Boost',XG3.score(x_train, y_train),XG3.score(x_test, y_test),\n",
    "                       XG3_1.score(x_train, y_train),XG3_1.score(x_test, y_test)]"
   ]
  },
  {
   "cell_type": "code",
   "execution_count": 89,
   "metadata": {
    "colab": {
     "base_uri": "https://localhost:8080/",
     "height": 269
    },
    "id": "b1M5bzKijLLq",
    "outputId": "c73b2af2-4aa4-4806-c196-53f91ad6eab3"
   },
   "outputs": [
    {
     "data": {
      "text/html": [
       "<div>\n",
       "<style scoped>\n",
       "    .dataframe tbody tr th:only-of-type {\n",
       "        vertical-align: middle;\n",
       "    }\n",
       "\n",
       "    .dataframe tbody tr th {\n",
       "        vertical-align: top;\n",
       "    }\n",
       "\n",
       "    .dataframe thead th {\n",
       "        text-align: right;\n",
       "    }\n",
       "</style>\n",
       "<table border=\"1\" class=\"dataframe\">\n",
       "  <thead>\n",
       "    <tr style=\"text-align: right;\">\n",
       "      <th></th>\n",
       "      <th>Model</th>\n",
       "      <th>TrainAcuracy</th>\n",
       "      <th>TestAcuracy</th>\n",
       "      <th>TrainAcuracy_Tuning</th>\n",
       "      <th>TestAcuracy_Tuning</th>\n",
       "    </tr>\n",
       "  </thead>\n",
       "  <tbody>\n",
       "    <tr>\n",
       "      <th>0</th>\n",
       "      <td>Logistic Regression</td>\n",
       "      <td>0.603599</td>\n",
       "      <td>0.600872</td>\n",
       "      <td>0.607961</td>\n",
       "      <td>0.603053</td>\n",
       "    </tr>\n",
       "    <tr>\n",
       "      <th>1</th>\n",
       "      <td>SVC</td>\n",
       "      <td>0.736914</td>\n",
       "      <td>0.657034</td>\n",
       "      <td>0.726281</td>\n",
       "      <td>0.672846</td>\n",
       "    </tr>\n",
       "    <tr>\n",
       "      <th>2</th>\n",
       "      <td>Decision Tree Classifier</td>\n",
       "      <td>1.000000</td>\n",
       "      <td>0.631407</td>\n",
       "      <td>0.777808</td>\n",
       "      <td>0.682661</td>\n",
       "    </tr>\n",
       "    <tr>\n",
       "      <th>3</th>\n",
       "      <td>KNN</td>\n",
       "      <td>0.704471</td>\n",
       "      <td>0.538168</td>\n",
       "      <td>0.654853</td>\n",
       "      <td>0.564885</td>\n",
       "    </tr>\n",
       "    <tr>\n",
       "      <th>4</th>\n",
       "      <td>Naive Bayes</td>\n",
       "      <td>0.176936</td>\n",
       "      <td>0.188659</td>\n",
       "      <td>0.571156</td>\n",
       "      <td>0.561614</td>\n",
       "    </tr>\n",
       "    <tr>\n",
       "      <th>5</th>\n",
       "      <td>Random Forest</td>\n",
       "      <td>1.000000</td>\n",
       "      <td>0.726827</td>\n",
       "      <td>1.000000</td>\n",
       "      <td>0.728462</td>\n",
       "    </tr>\n",
       "    <tr>\n",
       "      <th>6</th>\n",
       "      <td>XG Boost</td>\n",
       "      <td>0.998909</td>\n",
       "      <td>0.723010</td>\n",
       "      <td>0.984188</td>\n",
       "      <td>0.730643</td>\n",
       "    </tr>\n",
       "  </tbody>\n",
       "</table>\n",
       "</div>"
      ],
      "text/plain": [
       "                      Model  TrainAcuracy  TestAcuracy  TrainAcuracy_Tuning  \\\n",
       "0       Logistic Regression      0.603599     0.600872             0.607961   \n",
       "1                       SVC      0.736914     0.657034             0.726281   \n",
       "2  Decision Tree Classifier      1.000000     0.631407             0.777808   \n",
       "3                       KNN      0.704471     0.538168             0.654853   \n",
       "4               Naive Bayes      0.176936     0.188659             0.571156   \n",
       "5             Random Forest      1.000000     0.726827             1.000000   \n",
       "6                  XG Boost      0.998909     0.723010             0.984188   \n",
       "\n",
       "   TestAcuracy_Tuning  \n",
       "0            0.603053  \n",
       "1            0.672846  \n",
       "2            0.682661  \n",
       "3            0.564885  \n",
       "4            0.561614  \n",
       "5            0.728462  \n",
       "6            0.730643  "
      ]
     },
     "execution_count": 89,
     "metadata": {},
     "output_type": "execute_result"
    }
   ],
   "source": [
    "accuracy_table"
   ]
  },
  {
   "cell_type": "code",
   "execution_count": 90,
   "metadata": {
    "colab": {
     "base_uri": "https://localhost:8080/",
     "height": 269
    },
    "id": "YvzrwDTTjg9n",
    "outputId": "fc03555b-1167-4d5b-a7ee-7659cffc1a93"
   },
   "outputs": [
    {
     "data": {
      "text/html": [
       "<div>\n",
       "<style scoped>\n",
       "    .dataframe tbody tr th:only-of-type {\n",
       "        vertical-align: middle;\n",
       "    }\n",
       "\n",
       "    .dataframe tbody tr th {\n",
       "        vertical-align: top;\n",
       "    }\n",
       "\n",
       "    .dataframe thead th {\n",
       "        text-align: right;\n",
       "    }\n",
       "</style>\n",
       "<table border=\"1\" class=\"dataframe\">\n",
       "  <thead>\n",
       "    <tr style=\"text-align: right;\">\n",
       "      <th></th>\n",
       "      <th>Model</th>\n",
       "      <th>TrainAcuracy</th>\n",
       "      <th>TestAcuracy</th>\n",
       "      <th>TrainAcuracy_Tuning</th>\n",
       "      <th>TestAcuracy_Tuning</th>\n",
       "    </tr>\n",
       "  </thead>\n",
       "  <tbody>\n",
       "    <tr>\n",
       "      <th>0</th>\n",
       "      <td>Logistic Regression</td>\n",
       "      <td>0.655908</td>\n",
       "      <td>0.646995</td>\n",
       "      <td>0.656455</td>\n",
       "      <td>0.646995</td>\n",
       "    </tr>\n",
       "    <tr>\n",
       "      <th>1</th>\n",
       "      <td>SVC</td>\n",
       "      <td>0.761488</td>\n",
       "      <td>0.704918</td>\n",
       "      <td>0.765864</td>\n",
       "      <td>0.725683</td>\n",
       "    </tr>\n",
       "    <tr>\n",
       "      <th>2</th>\n",
       "      <td>Decision Tree Classifier</td>\n",
       "      <td>1.000000</td>\n",
       "      <td>0.649180</td>\n",
       "      <td>0.868162</td>\n",
       "      <td>0.679781</td>\n",
       "    </tr>\n",
       "    <tr>\n",
       "      <th>3</th>\n",
       "      <td>KNN</td>\n",
       "      <td>0.736324</td>\n",
       "      <td>0.572678</td>\n",
       "      <td>0.708972</td>\n",
       "      <td>0.586885</td>\n",
       "    </tr>\n",
       "    <tr>\n",
       "      <th>4</th>\n",
       "      <td>Naive Bayes</td>\n",
       "      <td>0.594092</td>\n",
       "      <td>0.615301</td>\n",
       "      <td>0.592998</td>\n",
       "      <td>0.615301</td>\n",
       "    </tr>\n",
       "    <tr>\n",
       "      <th>5</th>\n",
       "      <td>Random Forest</td>\n",
       "      <td>1.000000</td>\n",
       "      <td>0.720219</td>\n",
       "      <td>1.000000</td>\n",
       "      <td>0.718033</td>\n",
       "    </tr>\n",
       "    <tr>\n",
       "      <th>6</th>\n",
       "      <td>XG Boost</td>\n",
       "      <td>1.000000</td>\n",
       "      <td>0.735519</td>\n",
       "      <td>1.000000</td>\n",
       "      <td>0.726776</td>\n",
       "    </tr>\n",
       "  </tbody>\n",
       "</table>\n",
       "</div>"
      ],
      "text/plain": [
       "                      Model  TrainAcuracy  TestAcuracy  TrainAcuracy_Tuning  \\\n",
       "0       Logistic Regression      0.655908     0.646995             0.656455   \n",
       "1                       SVC      0.761488     0.704918             0.765864   \n",
       "2  Decision Tree Classifier      1.000000     0.649180             0.868162   \n",
       "3                       KNN      0.736324     0.572678             0.708972   \n",
       "4               Naive Bayes      0.594092     0.615301             0.592998   \n",
       "5             Random Forest      1.000000     0.720219             1.000000   \n",
       "6                  XG Boost      1.000000     0.735519             1.000000   \n",
       "\n",
       "   TestAcuracy_Tuning  \n",
       "0            0.646995  \n",
       "1            0.725683  \n",
       "2            0.679781  \n",
       "3            0.586885  \n",
       "4            0.615301  \n",
       "5            0.718033  \n",
       "6            0.726776  "
      ]
     },
     "execution_count": 90,
     "metadata": {},
     "output_type": "execute_result"
    }
   ],
   "source": [
    "accuracy_table2"
   ]
  },
  {
   "cell_type": "code",
   "execution_count": 91,
   "metadata": {
    "colab": {
     "base_uri": "https://localhost:8080/",
     "height": 269
    },
    "id": "EDx5cZ2GjkEu",
    "outputId": "5393798a-b79b-402a-b206-74bbf9159961"
   },
   "outputs": [
    {
     "data": {
      "text/html": [
       "<div>\n",
       "<style scoped>\n",
       "    .dataframe tbody tr th:only-of-type {\n",
       "        vertical-align: middle;\n",
       "    }\n",
       "\n",
       "    .dataframe tbody tr th {\n",
       "        vertical-align: top;\n",
       "    }\n",
       "\n",
       "    .dataframe thead th {\n",
       "        text-align: right;\n",
       "    }\n",
       "</style>\n",
       "<table border=\"1\" class=\"dataframe\">\n",
       "  <thead>\n",
       "    <tr style=\"text-align: right;\">\n",
       "      <th></th>\n",
       "      <th>Model</th>\n",
       "      <th>TrainAcuracy</th>\n",
       "      <th>TestAcuracy</th>\n",
       "      <th>TrainAcuracy_Tuning</th>\n",
       "      <th>TestAcuracy_Tuning</th>\n",
       "    </tr>\n",
       "  </thead>\n",
       "  <tbody>\n",
       "    <tr>\n",
       "      <th>0</th>\n",
       "      <td>Logistic Regression</td>\n",
       "      <td>0.632284</td>\n",
       "      <td>0.661422</td>\n",
       "      <td>0.633159</td>\n",
       "      <td>0.661422</td>\n",
       "    </tr>\n",
       "    <tr>\n",
       "      <th>1</th>\n",
       "      <td>SVC</td>\n",
       "      <td>0.734848</td>\n",
       "      <td>0.705128</td>\n",
       "      <td>0.781760</td>\n",
       "      <td>0.731935</td>\n",
       "    </tr>\n",
       "    <tr>\n",
       "      <th>2</th>\n",
       "      <td>Decision Tree Classifier</td>\n",
       "      <td>1.000000</td>\n",
       "      <td>0.628788</td>\n",
       "      <td>0.799825</td>\n",
       "      <td>0.668415</td>\n",
       "    </tr>\n",
       "    <tr>\n",
       "      <th>3</th>\n",
       "      <td>KNN</td>\n",
       "      <td>0.710373</td>\n",
       "      <td>0.605478</td>\n",
       "      <td>0.664918</td>\n",
       "      <td>0.622960</td>\n",
       "    </tr>\n",
       "    <tr>\n",
       "      <th>4</th>\n",
       "      <td>Naive Bayes</td>\n",
       "      <td>0.511946</td>\n",
       "      <td>0.539627</td>\n",
       "      <td>0.511072</td>\n",
       "      <td>0.539044</td>\n",
       "    </tr>\n",
       "    <tr>\n",
       "      <th>5</th>\n",
       "      <td>Random Forest</td>\n",
       "      <td>1.000000</td>\n",
       "      <td>0.736597</td>\n",
       "      <td>1.000000</td>\n",
       "      <td>0.742424</td>\n",
       "    </tr>\n",
       "    <tr>\n",
       "      <th>6</th>\n",
       "      <td>XG Boost</td>\n",
       "      <td>0.999417</td>\n",
       "      <td>0.736014</td>\n",
       "      <td>1.000000</td>\n",
       "      <td>0.739510</td>\n",
       "    </tr>\n",
       "  </tbody>\n",
       "</table>\n",
       "</div>"
      ],
      "text/plain": [
       "                      Model  TrainAcuracy  TestAcuracy  TrainAcuracy_Tuning  \\\n",
       "0       Logistic Regression      0.632284     0.661422             0.633159   \n",
       "1                       SVC      0.734848     0.705128             0.781760   \n",
       "2  Decision Tree Classifier      1.000000     0.628788             0.799825   \n",
       "3                       KNN      0.710373     0.605478             0.664918   \n",
       "4               Naive Bayes      0.511946     0.539627             0.511072   \n",
       "5             Random Forest      1.000000     0.736597             1.000000   \n",
       "6                  XG Boost      0.999417     0.736014             1.000000   \n",
       "\n",
       "   TestAcuracy_Tuning  \n",
       "0            0.661422  \n",
       "1            0.731935  \n",
       "2            0.668415  \n",
       "3            0.622960  \n",
       "4            0.539044  \n",
       "5            0.742424  \n",
       "6            0.739510  "
      ]
     },
     "execution_count": 91,
     "metadata": {},
     "output_type": "execute_result"
    }
   ],
   "source": [
    "accuracy_table3"
   ]
  },
  {
   "cell_type": "markdown",
   "metadata": {
    "id": "fjGLEaJIj_dE"
   },
   "source": [
    "cluster 0- xgboost\n",
    "cluster 1-SVC\n",
    "cluster 2- xgboost\n"
   ]
  },
  {
   "cell_type": "code",
   "execution_count": 92,
   "metadata": {
    "id": "doY0u1xwjlvR"
   },
   "outputs": [],
   "source": [
    "import pickle\n",
    "pickle.dump(XG1, open('F:\\\\ML\\\\ML Ineuron\\\\Project\\\\Body Performance\\\\Models\\\\cluster0_XGBoost.sav', 'wb'))"
   ]
  },
  {
   "cell_type": "code",
   "execution_count": 93,
   "metadata": {},
   "outputs": [],
   "source": [
    "pickle.dump(SVC2_1, open('F:\\\\ML\\\\ML Ineuron\\\\Project\\\\Body Performance\\\\Models\\\\cluster1_SVC.sav', 'wb'))"
   ]
  },
  {
   "cell_type": "code",
   "execution_count": 94,
   "metadata": {},
   "outputs": [],
   "source": [
    "pickle.dump(XG3_1, open('F:\\\\ML\\\\ML Ineuron\\\\Project\\\\Body Performance\\\\Models\\\\cluster2_XGBoost.sav', 'wb'))"
   ]
  },
  {
   "cell_type": "code",
   "execution_count": 95,
   "metadata": {},
   "outputs": [],
   "source": [
    "pickle.dump(kmean, open('F:\\\\ML\\\\ML Ineuron\\\\Project\\\\Body Performance\\\\Models\\\\clustering_KMean.sav', 'wb'))"
   ]
  },
  {
   "cell_type": "code",
   "execution_count": 96,
   "metadata": {},
   "outputs": [],
   "source": [
    "pickle.dump(lblEn_category, open('F:\\\\ML\\\\ML Ineuron\\\\Project\\\\Body Performance\\\\encoders\\\\Encode_Category.sav', 'wb'))\n",
    "pickle.dump(lblEn_gender, open('F:\\\\ML\\\\ML Ineuron\\\\Project\\\\Body Performance\\\\encoders\\\\Encode_Gender.sav', 'wb'))"
   ]
  },
  {
   "cell_type": "code",
   "execution_count": 97,
   "metadata": {},
   "outputs": [
    {
     "data": {
      "text/plain": [
       "array(['F', 'M'], dtype=object)"
      ]
     },
     "execution_count": 97,
     "metadata": {},
     "output_type": "execute_result"
    }
   ],
   "source": [
    "#44\tM\t170\t63.3\t12.9\t65\t115\t44.5\t11.6\t49\t196\tB\n",
    "\n",
    "gender = pickle.load(open('F:\\\\ML\\\\ML Ineuron\\\\Project\\\\Body Performance\\\\encoders\\\\Encode_Gender.sav', 'rb'))\n",
    "gender.classes_\n"
   ]
  },
  {
   "cell_type": "code",
   "execution_count": 98,
   "metadata": {},
   "outputs": [
    {
     "name": "stdout",
     "output_type": "stream",
     "text": [
      "[1]\n"
     ]
    }
   ],
   "source": [
    "print(gender.transform(['M']))"
   ]
  },
  {
   "cell_type": "code",
   "execution_count": 99,
   "metadata": {},
   "outputs": [
    {
     "data": {
      "text/plain": [
       "array([2])"
      ]
     },
     "execution_count": 99,
     "metadata": {},
     "output_type": "execute_result"
    }
   ],
   "source": [
    "select_cluster=pickle.load(open('F:\\\\ML\\\\ML Ineuron\\\\Project\\\\Body Performance\\\\Models\\\\clustering_KMean.sav', 'rb'))\n",
    "select_cluster.predict([[44,1,170,63.3,12.9,65,115,44.5,11.6,49,196]])"
   ]
  },
  {
   "cell_type": "code",
   "execution_count": 100,
   "metadata": {},
   "outputs": [
    {
     "data": {
      "text/plain": [
       "array([0], dtype=int64)"
      ]
     },
     "execution_count": 100,
     "metadata": {},
     "output_type": "execute_result"
    }
   ],
   "source": [
    "model2=pickle.load(open('F:\\\\ML\\\\ML Ineuron\\\\Project\\\\Body Performance\\\\Models\\\\cluster2_XGBoost.sav', 'rb'))\n",
    "model2.predict([[44,1,170,63.3,12.9,65,115,44.5,11.6,49,196]])"
   ]
  },
  {
   "cell_type": "code",
   "execution_count": 105,
   "metadata": {},
   "outputs": [
    {
     "name": "stdout",
     "output_type": "stream",
     "text": [
      "['A']\n"
     ]
    }
   ],
   "source": [
    "category = pickle.load(open('F:\\\\ML\\\\ML Ineuron\\\\Project\\\\Body Performance\\\\encoders\\\\Encode_Category.sav', 'rb'))\n",
    "print(category.inverse_transform([0]))"
   ]
  },
  {
   "cell_type": "code",
   "execution_count": 111,
   "metadata": {},
   "outputs": [
    {
     "ename": "NameError",
     "evalue": "name 'sklearn' is not defined",
     "output_type": "error",
     "traceback": [
      "\u001b[1;31m---------------------------------------------------------------------------\u001b[0m",
      "\u001b[1;31mNameError\u001b[0m                                 Traceback (most recent call last)",
      "\u001b[1;32m<ipython-input-111-2c9e2e7ba1f4>\u001b[0m in \u001b[0;36m<module>\u001b[1;34m\u001b[0m\n\u001b[1;32m----> 1\u001b[1;33m \u001b[0msklearn\u001b[0m\u001b[1;33m.\u001b[0m\u001b[0m__version__\u001b[0m\u001b[1;33m\u001b[0m\u001b[1;33m\u001b[0m\u001b[0m\n\u001b[0m",
      "\u001b[1;31mNameError\u001b[0m: name 'sklearn' is not defined"
     ]
    }
   ],
   "source": [
    "sklearn.__version__"
   ]
  },
  {
   "cell_type": "code",
   "execution_count": 112,
   "metadata": {},
   "outputs": [
    {
     "name": "stdout",
     "output_type": "stream",
     "text": [
      "alabaster==0.7.12\n",
      "anaconda-client==1.7.2\n",
      "anaconda-navigator==1.9.12\n",
      "anaconda-project==0.8.3\n",
      "argh==0.26.2\n",
      "asn1crypto==1.3.0\n",
      "astroid==2.3.3\n",
      "astropy==4.0\n",
      "atomicwrites==1.3.0\n",
      "attrs==19.3.0\n",
      "autopep8==1.4.4\n",
      "Babel==2.8.0\n",
      "backcall==0.1.0\n",
      "backports.functools-lru-cache==1.6.1\n",
      "backports.shutil-get-terminal-size==1.0.0\n",
      "backports.tempfile==1.0\n",
      "backports.weakref==1.0.post1\n",
      "bcrypt==3.1.7\n",
      "beautifulsoup4==4.8.2\n",
      "bitarray==1.2.1\n",
      "bkcharts==0.2\n",
      "bleach==3.1.0\n",
      "bokeh==1.4.0\n",
      "boto==2.49.0\n",
      "Bottleneck==1.3.2\n",
      "certifi==2019.11.28\n",
      "cffi==1.14.0\n",
      "chardet==3.0.4\n",
      "charset-normalizer==2.0.12\n",
      "chart-studio==1.1.0\n",
      "Click==7.0\n",
      "cloudpickle==1.3.0\n",
      "clyent==1.2.2\n",
      "colorama==0.4.3\n",
      "colorlover==0.3.0\n",
      "comtypes==1.1.7\n",
      "conda==4.8.2\n",
      "conda-build==3.18.11\n",
      "conda-package-handling==1.6.0\n",
      "conda-verify==3.4.2\n",
      "contextlib2==0.6.0.post1\n",
      "cryptography==2.8\n",
      "cufflinks==0.17.3\n",
      "cycler==0.10.0\n",
      "Cython==0.29.15\n",
      "cytoolz==0.10.1\n",
      "dask==2.11.0\n",
      "decorator==4.4.1\n",
      "defusedxml==0.6.0\n",
      "diff-match-patch==20181111\n",
      "distributed==2.11.0\n",
      "docutils==0.16\n",
      "docx==0.2.4\n",
      "entrypoints==0.3\n",
      "et-xmlfile==1.0.1\n",
      "fastcache==1.1.0\n",
      "filelock==3.0.12\n",
      "flake8==3.7.9\n",
      "Flask==1.1.1\n",
      "fonttools==4.29.1\n",
      "fsspec==0.6.2\n",
      "future==0.18.2\n",
      "gevent==1.4.0\n",
      "glob2==0.7\n",
      "greenlet==0.4.15\n",
      "h5py==2.10.0\n",
      "HeapDict==1.0.1\n",
      "hp==0.0.3\n",
      "html5lib==1.0.1\n",
      "htmlmin==0.1.12\n",
      "hypothesis==5.5.4\n",
      "idna==2.8\n",
      "ImageHash==4.2.1\n",
      "imageio==2.6.1\n",
      "imagesize==1.2.0\n",
      "imbalanced-learn==0.9.0\n",
      "imblearn==0.0\n",
      "importlib-metadata==1.5.0\n",
      "intervaltree==3.0.2\n",
      "ipykernel==5.1.4\n",
      "ipython==7.12.0\n",
      "ipython-genutils==0.2.0\n",
      "ipywidgets==7.5.1\n",
      "isort==4.3.21\n",
      "itsdangerous==1.1.0\n",
      "jdcal==1.4.1\n",
      "jedi==0.14.1\n",
      "Jinja2==2.11.1\n",
      "joblib==1.0.1\n",
      "json5==0.9.1\n",
      "jsonschema==3.2.0\n",
      "jupyter==1.0.0\n",
      "jupyter-client==5.3.4\n",
      "jupyter-console==6.1.0\n",
      "jupyter-core==4.6.1\n",
      "jupyterlab==1.2.6\n",
      "jupyterlab-server==1.0.6\n",
      "keyring==21.1.0\n",
      "kiwisolver==1.1.0\n",
      "kneed==0.7.0\n",
      "lazy-object-proxy==1.4.3\n",
      "libarchive-c==2.8\n",
      "llvmlite==0.31.0\n",
      "locket==0.2.0\n",
      "lxml==4.5.0\n",
      "MarkupSafe==2.0.1\n",
      "matplotlib==3.5.1\n",
      "mccabe==0.6.1\n",
      "menuinst==1.4.16\n",
      "missingno==0.5.1\n",
      "mistune==0.8.4\n",
      "mkl-fft==1.0.15\n",
      "mkl-random==1.1.0\n",
      "mkl-service==2.3.0\n",
      "mock==4.0.1\n",
      "more-itertools==8.2.0\n",
      "mpmath==1.1.0\n",
      "msgpack==0.6.1\n",
      "multimethod==1.7\n",
      "multipledispatch==0.6.0\n",
      "navigator-updater==0.2.1\n",
      "nbconvert==5.6.1\n",
      "nbformat==5.0.4\n",
      "networkx==2.4\n",
      "nltk==3.4.5\n",
      "nose==1.3.7\n",
      "notebook==6.0.3\n",
      "numba==0.48.0\n",
      "numexpr==2.7.1\n",
      "numpy==1.18.1\n",
      "numpydoc==0.9.2\n",
      "olefile==0.46\n",
      "openpyxl==3.0.3\n",
      "packaging==20.1\n",
      "pandas==1.3.5\n",
      "pandas-profiling==3.1.0\n",
      "pandocfilters==1.4.2\n",
      "paramiko==2.7.1\n",
      "parso==0.5.2\n",
      "partd==1.1.0\n",
      "path==13.1.0\n",
      "pathlib2==2.3.5\n",
      "pathtools==0.1.2\n",
      "patsy==0.5.1\n",
      "pep8==1.7.1\n",
      "pexpect==4.8.0\n",
      "phik==0.12.2\n",
      "pickleshare==0.7.5\n",
      "Pillow==7.0.0\n",
      "pkginfo==1.5.0.1\n",
      "plotly==5.6.0\n",
      "pluggy==0.13.1\n",
      "ply==3.11\n",
      "prometheus-client==0.7.1\n",
      "prompt-toolkit==3.0.3\n",
      "psutil==5.6.7\n",
      "py==1.8.1\n",
      "pycodestyle==2.5.0\n",
      "pycosat==0.6.3\n",
      "pycparser==2.19\n",
      "pycrypto==2.6.1\n",
      "pycurl==7.43.0.5\n",
      "pydantic==1.9.0\n",
      "pydocstyle==4.0.1\n",
      "pyflakes==2.1.1\n",
      "Pygments==2.5.2\n",
      "pylint==2.4.4\n",
      "PyNaCl==1.3.0\n",
      "pyodbc===4.0.0-unsupported\n",
      "pyOpenSSL==19.1.0\n",
      "pyparsing==2.4.6\n",
      "PyPDF2==1.26.0\n",
      "pyreadline==2.1\n",
      "pyrsistent==0.15.7\n",
      "PySocks==1.7.1\n",
      "pytest==5.3.5\n",
      "pytest-arraydiff==0.3\n",
      "pytest-astropy==0.8.0\n",
      "pytest-astropy-header==0.1.2\n",
      "pytest-doctestplus==0.5.0\n",
      "pytest-openfiles==0.4.0\n",
      "pytest-remotedata==0.3.2\n",
      "python-dateutil==2.8.1\n",
      "python-docx==0.8.11\n",
      "python-jsonrpc-server==0.3.4\n",
      "python-language-server==0.31.7\n",
      "pytz==2019.3\n",
      "PyWavelets==1.1.1\n",
      "pywin32==227\n",
      "pywin32-ctypes==0.2.0\n",
      "pywinpty==0.5.7\n",
      "PyYAML==5.3\n",
      "pyzmq==18.1.1\n",
      "QDarkStyle==2.8\n",
      "QtAwesome==0.6.1\n",
      "qtconsole==4.6.0\n",
      "QtPy==1.9.0\n",
      "requests==2.27.1\n",
      "retrying==1.3.3\n",
      "rope==0.16.0\n",
      "Rtree==0.9.3\n",
      "ruamel-yaml==0.15.87\n",
      "scikit-image==0.16.2\n",
      "scikit-learn==1.0.2\n",
      "scikit-plot==0.3.7\n",
      "scipy==1.4.1\n",
      "seaborn==0.11.2\n",
      "Send2Trash==1.5.0\n",
      "simplegeneric==0.8.1\n",
      "singledispatch==3.4.0.3\n",
      "six==1.14.0\n",
      "snowballstemmer==2.0.0\n",
      "sortedcollections==1.1.2\n",
      "sortedcontainers==2.1.0\n",
      "soupsieve==1.9.5\n",
      "Sphinx==2.4.0\n",
      "sphinxcontrib-applehelp==1.0.1\n",
      "sphinxcontrib-devhelp==1.0.1\n",
      "sphinxcontrib-htmlhelp==1.0.2\n",
      "sphinxcontrib-jsmath==1.0.1\n",
      "sphinxcontrib-qthelp==1.0.2\n",
      "sphinxcontrib-serializinghtml==1.1.3\n",
      "sphinxcontrib-websupport==1.2.0\n",
      "spyder==4.0.1\n",
      "spyder-kernels==1.8.1\n",
      "SQLAlchemy==1.3.13\n",
      "statsmodels==0.11.0\n",
      "sympy==1.5.1\n",
      "tables==3.6.1\n",
      "tangled-up-in-unicode==0.1.0\n",
      "tblib==1.6.0\n",
      "tenacity==8.0.1\n",
      "terminado==0.8.3\n",
      "testpath==0.4.4\n",
      "threadpoolctl==3.1.0\n",
      "toolz==0.10.0\n",
      "tornado==6.0.3\n",
      "tqdm==4.63.0\n",
      "traitlets==4.3.3\n",
      "typing-extensions==4.1.1\n",
      "ujson==1.35\n",
      "unicodecsv==0.14.1\n",
      "urllib3==1.25.8\n",
      "visions==0.7.4\n",
      "watchdog==0.10.2\n",
      "wcwidth==0.1.8\n",
      "webencodings==0.5.1\n",
      "Werkzeug==1.0.0\n",
      "widgetsnbextension==3.5.1\n",
      "win-inet-pton==1.1.0\n",
      "win-unicode-console==0.5\n",
      "wincertstore==0.2\n",
      "wrapt==1.11.2\n",
      "xgboost==1.6.1\n",
      "xlrd==1.2.0\n",
      "XlsxWriter==1.2.7\n",
      "xlwings==0.17.1\n",
      "xlwt==1.3.0\n",
      "xmltodict==0.12.0\n",
      "yapf==0.28.0\n",
      "zict==1.0.0\n",
      "zipp==2.2.0\n",
      "Note: you may need to restart the kernel to use updated packages.\n"
     ]
    },
    {
     "name": "stderr",
     "output_type": "stream",
     "text": [
      "WARNING: Could not generate requirement for distribution -atplotlib 3.1.3 (c:\\users\\hp\\anaconda3\\lib\\site-packages): Parse error at \"'-atplotl'\": Expected W:(abcd...)\n"
     ]
    }
   ],
   "source": [
    "pip freeze"
   ]
  },
  {
   "cell_type": "code",
   "execution_count": null,
   "metadata": {},
   "outputs": [],
   "source": []
  }
 ],
 "metadata": {
  "accelerator": "GPU",
  "colab": {
   "collapsed_sections": [
    "0foT4rnijW__",
    "YBirSpAzFleR",
    "evR53OX_FleS",
    "sa7RAPr7FleT",
    "6v71qvh0FleU",
    "7y6TW5xAFleV",
    "fiWDpF-eFleX",
    "yEWgrSWHCrhn",
    "rJOGKvIxj2hZ"
   ],
   "name": "Pre - Development.ipynb",
   "provenance": []
  },
  "kernelspec": {
   "display_name": "Python 3",
   "language": "python",
   "name": "python3"
  },
  "language_info": {
   "codemirror_mode": {
    "name": "ipython",
    "version": 3
   },
   "file_extension": ".py",
   "mimetype": "text/x-python",
   "name": "python",
   "nbconvert_exporter": "python",
   "pygments_lexer": "ipython3",
   "version": "3.7.6"
  }
 },
 "nbformat": 4,
 "nbformat_minor": 1
}
